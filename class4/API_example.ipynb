{
 "cells": [
  {
   "cell_type": "markdown",
   "metadata": {},
   "source": [
    "# This is an example of doing the geocoding we did with OpenRefine but using Python to call the same service"
   ]
  },
  {
   "cell_type": "code",
   "execution_count": null,
   "metadata": {
    "collapsed": false
   },
   "outputs": [],
   "source": [
    "#add your app_id here\n",
    "APP_ID = '48eab85b'\n",
    "#add your app_key here\n",
    "APP_KEY = 'fa31219b4e426ff96a8ded2905e6ae3a'"
   ]
  },
  {
   "cell_type": "markdown",
   "metadata": {},
   "source": [
    "###We have to tell Python where to find the input file, giving the full path to the file as the first argument and then whether it's reading the file ('r') or writing to the file ('w'). We could also append to a file ('a')\n",
    "###For more information, see http://www.tutorialspoint.com/python/python_files_io.htm"
   ]
  },
  {
   "cell_type": "code",
   "execution_count": null,
   "metadata": {
    "collapsed": false
   },
   "outputs": [],
   "source": [
    "inputFile = open('Lincoln_Square_BID_Business_List.csv','rU') #change to match the file location\n",
    "header = next(inputFile) #take the next line of input and assign it to a variable"
   ]
  },
  {
   "cell_type": "code",
   "execution_count": null,
   "metadata": {
    "collapsed": false
   },
   "outputs": [],
   "source": [
    "header #the value of the variable header"
   ]
  },
  {
   "cell_type": "code",
   "execution_count": null,
   "metadata": {
    "collapsed": false
   },
   "outputs": [],
   "source": [
    "import csv #package for dealing with csv files"
   ]
  },
  {
   "cell_type": "markdown",
   "metadata": {},
   "source": [
    "###We use the csv.reader function to read in the columns properly, especially the ones that have commas in between double quotation marks.  This is a built in package to Python, but we still have to link to it with the import statement above\n",
    "###For more information, see https://docs.python.org/2/library/csv.html"
   ]
  },
  {
   "cell_type": "code",
   "execution_count": null,
   "metadata": {
    "collapsed": false
   },
   "outputs": [],
   "source": [
    "inputReader = csv.reader(inputFile) "
   ]
  },
  {
   "cell_type": "code",
   "execution_count": null,
   "metadata": {
    "collapsed": false,
    "scrolled": true
   },
   "outputs": [],
   "source": [
    "#10 lines from the file\n",
    "for i in range(10):\n",
    "    print next(inputReader)"
   ]
  },
  {
   "cell_type": "code",
   "execution_count": null,
   "metadata": {
    "collapsed": false,
    "scrolled": true
   },
   "outputs": [],
   "source": [
    "test_line = next(inputReader) #the next function returns a line and I'm assigning that line to a variable. \n",
    "# This helps me test the input from the text.\n",
    "test_line"
   ]
  },
  {
   "cell_type": "code",
   "execution_count": null,
   "metadata": {
    "collapsed": false
   },
   "outputs": [],
   "source": [
    "test_line[1]"
   ]
  },
  {
   "cell_type": "code",
   "execution_count": null,
   "metadata": {
    "collapsed": false
   },
   "outputs": [],
   "source": [
    "#because we've already iterated through some of the file contents, it's best to re-open the file and start from the beginning\n",
    "inputFile = open('Lincoln_Square_BID_Business_List.csv','rU') \n",
    "header = next(inputFile) #take the next line and assign it to a variable\n",
    "inputReader = csv.reader(inputFile) "
   ]
  },
  {
   "cell_type": "code",
   "execution_count": null,
   "metadata": {
    "collapsed": false
   },
   "outputs": [],
   "source": [
    "#this time, we're just printing out the street address\n",
    "for line in inputReader:\n",
    "    print line[1]\n",
    "inputFile.close() #close the open input file"
   ]
  },
  {
   "cell_type": "code",
   "execution_count": null,
   "metadata": {
    "collapsed": false
   },
   "outputs": [],
   "source": [
    "#because we've already iterated through and closed the file, we have to re-open the file\n",
    "inputFile = open('Lincoln_Square_BID_Business_List.csv','rU') \n",
    "header = next(inputFile) #take the next line and assign it to a variable\n",
    "inputReader = csv.reader(inputFile) "
   ]
  },
  {
   "cell_type": "markdown",
   "metadata": {},
   "source": [
    "###This time, we're taking the address and inserting it into the API string I can check the string by clicking the link and it should provide me the response I'm looking for this allows me to test that I've constructed the string properly"
   ]
  },
  {
   "cell_type": "code",
   "execution_count": null,
   "metadata": {
    "collapsed": false
   },
   "outputs": [],
   "source": [
    "for line in inputReader:\n",
    "    houseNumber = line[1].split(\" \")[0] #take the first segment of the address\n",
    "    street = ' '.join(line[1].split(\" \")[1:]) #take the rest of the address as the street\n",
    "    zipcode = line[4][:5]\n",
    "    print('https://api.cityofnewyork.us/geoclient/v1/address.json?houseNumber=' + houseNumber + '&street=' + street + '&zip=' + zipcode + '&app_id=' + APP_ID + '&app_key=' + APP_KEY)\n",
    "\n",
    "inputFile.close() #close the open input file"
   ]
  },
  {
   "cell_type": "markdown",
   "metadata": {},
   "source": [
    "##Requests package for executing web requests [('HTTP for Humans')](http://docs.python-requests.org/en/latest/)"
   ]
  },
  {
   "cell_type": "code",
   "execution_count": null,
   "metadata": {
    "collapsed": false
   },
   "outputs": [],
   "source": [
    "import requests "
   ]
  },
  {
   "cell_type": "code",
   "execution_count": null,
   "metadata": {
    "collapsed": false
   },
   "outputs": [],
   "source": [
    "#This is a test call using the values from the last loop using requests.get\n",
    "r = requests.get('https://api.cityofnewyork.us/geoclient/v1/address.json?houseNumber=' + houseNumber + '&street=' + street + '&zip=' + zipcode + '&app_id=' + APP_ID + '&app_key=' + APP_KEY)"
   ]
  },
  {
   "cell_type": "markdown",
   "metadata": {},
   "source": [
    "###Just like with OpenRefine, we have to navigate the tree. The 'u' before the string indicates it's in [Unicode format](http://en.wikipedia.org/wiki/Unicode_symbols)\n",
    "###I use this test response to know which fields to use in my for loop later on"
   ]
  },
  {
   "cell_type": "code",
   "execution_count": null,
   "metadata": {
    "collapsed": false
   },
   "outputs": [],
   "source": [
    "r.json()"
   ]
  },
  {
   "cell_type": "code",
   "execution_count": null,
   "metadata": {
    "collapsed": false
   },
   "outputs": [],
   "source": [
    "r.json()['address']"
   ]
  },
  {
   "cell_type": "code",
   "execution_count": null,
   "metadata": {
    "collapsed": false
   },
   "outputs": [],
   "source": [
    "r.json()['address']['latitude'], r.json()['address']['longitude']"
   ]
  },
  {
   "cell_type": "code",
   "execution_count": null,
   "metadata": {
    "collapsed": false
   },
   "outputs": [],
   "source": [
    "#because we've already iterated through and closed the file, we have to re-open the file\n",
    "inputFile = open('Lincoln_Square_BID_Business_List.csv','rU') \n",
    "header = next(inputFile) #take the next line and assign it to a variable\n",
    "inputReader = csv.reader(inputFile) "
   ]
  },
  {
   "cell_type": "code",
   "execution_count": null,
   "metadata": {
    "collapsed": false
   },
   "outputs": [],
   "source": [
    "#This time, I want to process the response I get. I'm going to get the response and write the output to a file\n",
    "#Here I'm opening the file I'm going to write to. If the file already exists, it overwrite the file.\n",
    "outputFile = open('Lincoln_Square_BID_Business_List_geocoded.csv','w') #opens the file\n",
    "outputFile.write(header.rstrip() + ',longitude,latitude\\n') #writes the first line of my CSV file. NOTE: '\\n' writes a new line"
   ]
  },
  {
   "cell_type": "markdown",
   "metadata": {},
   "source": [
    "###This time through we put the pieces together.  I'm executing the web request, I'm getting the reponse, and then writing it to the output"
   ]
  },
  {
   "cell_type": "code",
   "execution_count": null,
   "metadata": {
    "collapsed": false
   },
   "outputs": [],
   "source": [
    "for line in inputReader:\n",
    "    houseNumber = line[1].split(\" \")[0] #take the first segment of the address\n",
    "    street = ' '.join(line[1].split(\" \")[1:]) #take the rest of the address as the street\n",
    "    zipcode = line[4][:5]\n",
    "    #the web request, using the get() function from the package requests and assigning it to the variable r\n",
    "    r = requests.get('https://api.cityofnewyork.us/geoclient/v1/address.json?houseNumber=' + houseNumber + '&street=' + street + '&zip=' + zipcode + '&app_id=' + APP_ID + '&app_key=' + APP_KEY)\n",
    "    \n",
    "    \n",
    "    #My default value is 'Null' for longitude. 0 is a legitimate value and when I map these, I don't want anything to plot to 0,0\n",
    "    longitude = 'Null' \n",
    "    latitude = 'Null'\n",
    "\n",
    "    \n",
    "    #longitude\n",
    "    if 'longitude' in r.json()['address'].keys(): #I first check that there is a longitude present\n",
    "        #if it's present, I assign the value to the variable \"longitude\". Otherwise, the variable longitude has the value 'Null'\n",
    "        longitude = r.json()['address']['longitude'] \n",
    "    #latitude\n",
    "    if 'latitude' in r.json()['address'].keys(): #I then check that there is a latitude present\n",
    "        #if it's present, I assign the value to the variable \"latitude\". Otherwise, the variable latitude has the value 'Null'\n",
    "        latitude = r.json()['address']['latitude']\n",
    "    #I then write the result to the output file, stringing together the variables\n",
    "    #because the latitude and longitude are decimal numbers, I have to convert them to strings using the str() function\n",
    "    #in order to combine them together with the rest of the variables. \n",
    "    #Note the commas in the string and the '\\n' new line character at the end of the string\n",
    "    outputFile.write(','.join(line) + ',' + str(longitude) + ',' + str(latitude) + '\\n')\n",
    "\n",
    "inputFile.close() #close the input file\n",
    "outputFile.close() #close the open output file. \n",
    "#This is important because if you don't close it, it's possible the last bit of data won't get written to the file before the \n",
    "#program closes."
   ]
  },
  {
   "cell_type": "markdown",
   "metadata": {
    "collapsed": false
   },
   "source": [
    "##And we're done..."
   ]
  },
  {
   "cell_type": "markdown",
   "metadata": {},
   "source": [
    "<img src=\"http://www.quickmeme.com/img/a5/a5e4a5a47029bf5fb99de6baa5ac7c9a664c3cd0b9c40d67d49c4c591dde0282.jpg\">"
   ]
  },
  {
   "cell_type": "code",
   "execution_count": null,
   "metadata": {
    "collapsed": true
   },
   "outputs": [],
   "source": []
  }
 ],
 "metadata": {
  "kernelspec": {
   "display_name": "Python 2",
   "language": "python",
   "name": "python2"
  },
  "language_info": {
   "codemirror_mode": {
    "name": "ipython",
    "version": 2
   },
   "file_extension": ".py",
   "mimetype": "text/x-python",
   "name": "python",
   "nbconvert_exporter": "python",
   "pygments_lexer": "ipython2",
   "version": "2.7.10"
  }
 },
 "nbformat": 4,
 "nbformat_minor": 0
}
