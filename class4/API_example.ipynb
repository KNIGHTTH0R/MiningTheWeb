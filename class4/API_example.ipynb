{
 "cells": [
  {
   "cell_type": "markdown",
   "metadata": {},
   "source": [
    "# This is an example of doing the geocoding we did with OpenRefine but using Python to call the same service"
   ]
  },
  {
   "cell_type": "code",
   "execution_count": 1,
   "metadata": {
    "collapsed": false
   },
   "outputs": [],
   "source": [
    "#add your app_id here\n",
    "APP_ID = 'your_app_id'\n",
    "#add your app_key here\n",
    "APP_KEY = 'your_app_key'"
   ]
  },
  {
   "cell_type": "markdown",
   "metadata": {},
   "source": [
    "###We have to tell Python where to find the input file, giving the full path to the file as the first argument and then whether it's reading the file ('r') or writing to the file ('w'). We could also append to a file ('a')\n",
    "###For more information, see http://www.tutorialspoint.com/python/python_files_io.htm"
   ]
  },
  {
   "cell_type": "code",
   "execution_count": 6,
   "metadata": {
    "collapsed": false
   },
   "outputs": [],
   "source": [
    "inputFile = open('Lincoln_Square_BID_Business_List.csv','rU') #change to match the file location\n",
    "header = next(inputFile) #take the next line of input and assign it to a variable"
   ]
  },
  {
   "cell_type": "code",
   "execution_count": 3,
   "metadata": {
    "collapsed": false
   },
   "outputs": [
    {
     "data": {
      "text/plain": [
       "'Company,Business Address Street,Business Address City,Business Address State,Business Address Postal Code,Phone Business,Categories\\n'"
      ]
     },
     "execution_count": 3,
     "metadata": {},
     "output_type": "execute_result"
    }
   ],
   "source": [
    "header #the value of the variable header"
   ]
  },
  {
   "cell_type": "code",
   "execution_count": 4,
   "metadata": {
    "collapsed": false
   },
   "outputs": [
    {
     "name": "stdout",
     "output_type": "stream",
     "text": [
      "American Apparel ,1841 Broadway,New York,NY,10023-,(212) 265-3386,Business Retail\n",
      "\n",
      "American Bible Society Bookstore,1865 Broadway,New York,NY,10023-,(212) 408-1385,Business Retail\n",
      "\n",
      "American Folk Art Museum Book & Gift Shop,125 Columbus Avenue,New York,NY,10023-,(212) 595 9533 X121,Business Retail\n",
      "\n",
      "\"Apple Store, Upper West Side\",1981 Broadway,New York,NY,10023,(212) 209-3400,Business Retail\n",
      "\n",
      "Banana Republic,1976 Broadway,New York,NY,10023-,(212) 362-7320,Business Retail\n",
      "\n",
      "Barnes & Noble,1972 Broadway,New York,NY,10023,(212) 595-6859,Business Retail\n",
      "\n",
      "BCBG Max Azria,2005 Broadway,New York,NY,10023-,(212) 496-1853,Business Retail\n",
      "\n",
      "Bebe,10 Columbus Circle,New York,NY,10019,(212) 262-2690,Business Retail\n",
      "\n",
      "Bolton's,181 Amsterdam Avenue,New York,NY,10023-,(212) 362-7396,Business Retail\n",
      "\n",
      "Brooks Brothers,1934 Broadway,New York,NY,10023,(212) 362-2374,Business Retail\n",
      "\n",
      "Burberry Brit,160 Columbus Avenue,New York,NY,10023,(212) 595-0934,Business Retail\n",
      "\n",
      "Capezio,201 Amsterdam Avenue,New York,NY,10023,(212) 586-5140,Business Retail\n",
      "\n",
      "Gap,1988 Broadway,New York,NY,10023-,(212) 721-5304,Business Retail\n",
      "\n",
      "Gracious Home,1992 Broadway,New York,NY,10023-,(212 )231-7800,Business Retail\n",
      "\n",
      "Himalayan Crafts,2007 Broadway,New York,NY,10023-,(212) 787-8500,Business Retail\n",
      "\n",
      "Jacadi,1841 Broadway,New York,NY,10023-,(212) 246-2753,Business Retail\n",
      "\n",
      "Kiehl's,154 Columbus Avenue,New York,NY,10023-,(212) 799-3438,Business Retail\n",
      "\n",
      "Lilibeth,1885 Broadway,New York,NY,10023,(212) 823-2540,Business Retail\n",
      "\n",
      "LOFT,2017 Broadway,New York,NY,10023-,(212) 873-7344,Business Retail\n",
      "\n",
      "lululemon athletica,1928 Broadway,New York,NY,10023-,(212) 712-1767,Business Retail\n",
      "\n",
      "MAC,148 Columbus Avenue,New York,NY,10023-,(212) 769-0725,Business Retail\n",
      "\n",
      "MXYPLYZYK,10 Columbus Circle,New York,NY,10019,(800) 243-9810,Business Retail\n",
      "\n",
      "New York Look,30 Lincoln Plaza,New York,NY,10023,(212) 245-6511,Business Retail\n",
      "\n",
      "New York Look,2030 Broadway,New York,NY,10023-,(212) 362-8650,Business Retail\n",
      "\n",
      "Planet Kids,191 Amsterdam Ave.,New York,NY,10023,(212) 362-3931,Business Retail\n",
      "\n",
      "Pottery Barn,1965 Broadway,New York,NY,10023-,(212) 579-8477,Business Retail\n",
      "\n",
      "Raymour and Flanigan,1961 Broadway,New York,NY,10023,(646) 556-9390,Business Retail\n",
      "\n",
      "State News,151 Amsterdam Avenue,New York,NY,10023-,(212) 875-9654,Business Retail\n",
      "\n",
      "Tani,2020 Broadway,New York,NY,10023-,(212) 873-4361,Business Retail\n",
      "\n",
      "TD Bank,1873 Broadway,New York,NY,10023,(212) 245-0033,Business Retail\n",
      "\n",
      "\"The Emporium, Ltd.\",20 West 64th Street,New York,NY,10023,(212) 724-9521,Business Retail\n",
      "\n",
      "The Juilliard Store,60 Lincoln Center Plaza,New York,NY,10023-,(212) 799-5000,Business Retail\n",
      "\n",
      "The Metropolitan Opera Shop,70 Lincoln Center Plaza,New York,NY,10023-,(212) 580-4090,Business Retail\n",
      "\n",
      "The Store at MAD,2 Columbus Circle,New York,NY,10019,(212) 299-7700,Business Retail\n",
      "\n",
      "UGG Australia,160 Columbus Avenue,New York,NY,10023,(212) 671-1190,Business Retail\n",
      "\n",
      "West Elm,1870 Broadway,New York,NY,10023,(212) 247-8077,Business Retail\n",
      "\n",
      "Whole Foods Market,10 Columbus Circle,New York,NY,10019,(212) 823-9600,Business Retail\n",
      "\n",
      "Wolford,10 Columbus Circle,New York,NY,10019,(212) 265-7814,Business Retail\n",
      "\n",
      "Zara  ,1963 Broadway,New York,NY,10023,(212) 362-4272,Business Retail\n",
      "\n",
      "A|X Armani Exchange,10 Columbus Circle,New York,NY,10019-,(212) 823-9321,Business Retail TW\n",
      "\n",
      "Aveda ,10 Columbus Circle,New York,NY,10019,(212) 823-9714,Business Retail TW\n",
      "\n",
      "Borders,10 Columbus Circle,New York,NY,10019-,(212) 823-9775,Business Retail TW\n",
      "\n",
      "Bose,10 Columbus Circle,New York,NY,10019-,(212) 823-9314,Business Retail TW\n",
      "\n",
      "BOSS Hugo Boss,10 Columbus Circle,New York,NY,10019-,(212) 485-1900,Business Retail TW\n",
      "\n",
      "Cache,10 Columbus Circle,New York,NY,10019-,(212) 823-9693,Business Retail TW\n",
      "\n",
      "Coach,10 Columbus Circle,New York,NY,10019-,(212) 581-4115,Business Retail TW\n",
      "\n",
      "Cole Haan,10 Columbus Circle,New York,NY,10019-,(212) 823-9420,Business Retail TW\n",
      "\n",
      "Crabtree & Evelyn,10 Columbus Circle,New York,NY,10019-,(212) 823-9584,Business Retail TW\n",
      "\n",
      "D. Fiori,10 Columbus Circle,New York,NY,10019-,(212) 823-9444,Business Retail TW\n",
      "\n",
      "Davidoff at Columbus Circle,10 Columbus Circle,New York,NY,10019,(212) 823-6383,Business Retail TW\n",
      "\n",
      "Eileen Fisher,10 Columbus Circle,New York,NY,10019-,(212) 823-9575,Business Retail TW\n",
      "\n",
      "Esprit,10 Columbus Circle,New York,NY,10019-,(212) 823-9922,Business Retail TW\n",
      "\n",
      "FACE Stockholm,10 Columbus Circle,New York,NY,10019-,(212) 823-9415,Business Retail TW\n",
      "\n",
      "Godiva Chocolatier,10 Columbus Circle,New York,NY,10019-,(212) 823-9462,Business Retail TW\n",
      "\n",
      "J Crew,10 Columbus Circle,New York,NY,10019-,(212) 823-9302,Business Retail TW\n",
      "\n",
      "J.W. Cooper,10 Columbus Circle,New York,NY,10019-,(212) 823-9380,Business Retail TW\n",
      "\n",
      "L'Occitane,10 Columbus Circle,New York,NY,10019-,(212) 333-4880,Business Retail TW\n",
      "\n",
      "Maurice Jewelers,10 Columbus Circle,New York,NY,10019-,(212) 823-9393,Business Retail TW\n",
      "\n",
      "Montmartre,10 Columbus Circle,New York,NY,10019-,(212) 823-9821,Business Retail TW\n",
      "\n",
      "Morgenthal Frederics,10 Columbus Circle,New York,NY,10019-,(212) 956-6402,Business Retail TW\n",
      "\n",
      "NY Running Company,10 Columbus Circle Suite 210,New York,NY,10019-,(212) 823-9626,Business Retail TW\n",
      "\n",
      "Satya Experience,10 Columbus Circle Ground Floor,New York,NY,10019,(212) 823-9486,Business Retail TW\n",
      "\n",
      "Sephora,10 Columbus Circle,New York,NY,10019-,(212) 823-9383,Business Retail TW\n",
      "\n",
      "Sisley,10 Columbus Circle,New York,NY,10019-,(212) 823-9567,Business Retail TW\n",
      "\n",
      "Solstice,10 Columbus Circle,New York,NY,10019-,(212) 823-9590,Business Retail TW\n",
      "\n",
      "Stuart Weitzman,10 Columbus Circle,New York,NY,10019-,(212) 823-9560,Business Retail TW\n",
      "\n",
      "Swarovski,\"10 Columbus Circle, Ground Floor\",New York,NY,10019,(212) 823-9890,Business Retail TW\n",
      "\n",
      "The Art of Shaving,10 Columbus Circle,New York,NY,10019-,(212) 823-9410,Business Retail TW\n",
      "\n",
      "Thomas Pink,10 Columbus Circle,New York,NY,10019-,(212) 823-9650,Business Retail TW\n",
      "\n",
      "Tourneau,10 Columbus Circle,New York,NY,10019-,(212) 823-9425,Business Retail TW\n",
      "\n",
      "True Religion,\"10 Columbus Circle, 2nd Floor\",New York,NY,10019,(212) 209-5970,Business Retail TW\n",
      "\n",
      "Tumi,10 Columbus Circle,New York,NY,10019-,(877) 823-9390,Business Retail TW\n",
      "\n",
      "United Colors of Benetton,10 Columbus Circle,New York,NY,10019,(212) 245-5117,Business Retail TW\n",
      "\n",
      "United Colors of Benetton Kids,10 Columbus Circle,New York,NY,10019-,(212) 823-9569,Business Retail TW\n",
      "\n",
      "Williams-Sonoma,10 Columbus Circle,New York,NY,10019-,(212) 823-9750,Business Retail TW\n",
      "\n",
      "Williams-Sonoma Home,10 Columbus Circle,New York,NY,10019-,(212) 823-9750,Business Retail TW\n",
      "\n",
      "67  French Cleaners,148 West 67th Street,New York,NY,10023-,(212) 769-2779,Business Service\n",
      "\n",
      "AAA,1881 Broadway,New York,NY,10023-,(212) 586-1723,Business Service\n",
      "\n",
      "AMC Loews Lincoln Square Theater,1998 Broadway,New York,NY,10023-,(212) 336-5000,Business Service\n",
      "\n",
      "Amsterdam Hardware Corp.,147 Amsterdam Avenue,New York,NY,10023-,(212) 721-7804,Business Service\n",
      "\n",
      "Bank of America,1886 Broadway,New York,NY,10023-,(800) 432-1000,Business Service\n",
      "\n",
      "Bed Bath & Beyond,1932 Broadway,New York,NY,10023-,(917) 441-9391,Business Service\n",
      "\n",
      "Best Buy,1880 Broadway,New York,NY,10023-,(646) 246-9734,Business Service\n",
      "\n",
      "Brown Harris Stevens,1926 Broadway,New York,NY,10023-,(212) 906-9200,Business Service\n",
      "\n",
      "Capital One Bank,2025 Broadway,New York,NY,10023-,(212) 799-9200,Business Service\n",
      "\n",
      "Chase Bank,1860 Broadway,New York,NY,10023,(212) 877-5667,Business Service\n",
      "\n",
      "Chase Bank,2030 Broadway,New York,NY,10023-,(212) 580-6493,Business Service\n",
      "\n",
      "Chateau Drug & Homecare,181 Amsterdam Avenue,New York,NY,10023-,(212) 877-6390,Business Service\n",
      "\n",
      "Dorchester Cleaners,155 West 68th Street,New York,NY,10023-,(212) 787-0031,Business Service\n",
      "\n",
      "Duane Reade,2025 Broadway,New York,NY,10023-,(212) 579-9955,Business Service\n",
      "\n",
      "Duane Reade,1889 Broadway,New York,NY,10023-,(212) 586-6779,Business Service\n",
      "\n",
      "Equinox Fitness Club,10 Columbus Circle,New York,NY,10019,(212) 823-9530,Business Service\n",
      "\n",
      "Excellent Cleaners,137 West 67th Street,New York,NY,10023,(212) 580-2781,Business Service\n",
      "\n",
      "First Republic Bank,10 Columbus Circle,New York,NY,10019-,(212) 336-8200,Business Service\n",
      "\n",
      "Flute Center of New York,1841 Broadway,New York,NY,10023-,(212) 307-9737,Business Service\n",
      "\n",
      "Fontainebleau Nail & Spa,155 West 66th St.,New York,NY,10023,(212) 501-7011,Business Service\n",
      "\n",
      "Food Emporium,2008 Broadway,New York,NY,10023-,(212) 787-0012,Business Service\n",
      "\n",
      "Foot Lights Shoe Repair,144 West 67th Street,New York,NY,10023-,(212) 496-7141,Business Service\n",
      "\n",
      "Furry Paws,141 Amsterdam Avenue,New York,NY,10023-,(212) 724-9321,Business Service\n",
      "\n",
      "Hands On,189 Amsterdam Avenue,New York,NY,10023,(212) 724-3124,Business Service\n",
      "\n",
      "Harmony Cleaners ,61 West 62nd Street,New York,NY,10023-,(212) 586-1854,Business Service\n",
      "\n",
      "HSBC Bank,2025 Broadway,New York,NY,10023,(212) 362-0635,Business Service\n",
      "\n",
      "Innovation Luggage,2001 Broadway,New York,NY,10023-,(212) 721-3164,Business Service\n",
      "\n",
      "International Hair Cutters,145 Amsterdam Avenue,New York,NY,10023,(212) 877-0075,Business Service\n",
      "\n",
      "Jeunesse Spa,1889 Broadway,New York,NY,10023-,(212) 245-4606,Business Service\n",
      "\n",
      "Kay Cleaners II,20 West 64th Street,New York,NY,10023-,(212) 362-0118,Business Service\n",
      "\n",
      "Kim's Classic Nail & Spa,20 West 64th Street,New York,NY,10023-,(212) 769-0300,Business Service\n",
      "\n",
      "Lincoln Plaza Cinemas,\"1886 Broadway, 30 Lincoln Plaza\",New York,NY,10023-,(212) 757-2280,Business Service\n",
      "\n",
      "Lincoln Plaza News,1886 Broadway,New York,NY,10023-,(212) 397-2205,Business Service\n",
      "\n",
      "Lincoln Square Veterinary Hospital,140 West 67th Street,New York,NY,10023-,(212) 712-9600,Business Service\n",
      "\n",
      "Lincoln Terrace Cleaners,149 Amsterdam Avenue,New York,NY,10023-,(212) 874-3066,Business Service\n",
      "\n",
      "Manhattan Mailroom,163 Amsterdam Avenue,New York,NY,10023-,(212) 595-5353,Business Service\n",
      "\n",
      "Mayson 2 Cleaners,215 Amsterdam Avenue,New York,NY,10023-,(212) 595-2686,Business Service\n",
      "\n",
      "Millennium Salon,189 Amsterdam Avenue,New York,NY,10023-,(212) 874-7012,Business Service\n",
      "\n",
      "New York Kids Club,169 Amsterdam Avenue,New York,NY,10023-,(212) 721-4400,Business Service\n",
      "\n",
      "New York Sports Club,61 West 62nd Street,New York,NY,10023-,(212) 265-0995,Business Service\n",
      "\n",
      "OPTYX by gruen,2009 Broadway,New York,NY,10023-,(212) 874-8749,Business Service\n",
      "\n",
      "Oreck Floor Care,2003 Broadway,New York,NY,10023-,(212) 875-0002,Business Service\n",
      "\n",
      "Plaza Cleaners,30 Lincoln Plaza,New York,NY,10023-,(212) 307-6074,Business Service\n",
      "\n",
      "\"Rayburn Musical Instrument Co., Inc.\",44 West 62nd Street,New York,NY,10023-,(212) 541-6236,Business Service\n",
      "\n",
      "Reebok Sports Club/NY,160 Columbus Avenue,New York,NY,10023-,(212) 362-6800,Business Service\n",
      "\n",
      "Salon 66,60 West 66th Street,New York,NY,10023,(212) 873-0443,Business Service\n",
      "\n",
      "Samsung Experience,10 Columbus Circle,New York,NY,10019,(212) 823-9520,Business Service\n",
      "\n",
      "Simply Nails,167 Amsterdam Avenue,New York,NY  -,10023,(212) 787-7574,Business Service\n",
      "\n",
      "TD Bank,1995 Broadway,New York,NY,10023-,(212) 579-9418,Business Service\n",
      "\n",
      "Tower West Dry Cleaners,161 Amsterdam Avenue,New York,NY,10023-,(212) 724-5370,Business Service\n",
      "\n",
      "Trevi Nail,2016 Broadway,New York,NY,10023-,(212) 875-9300,Business Service\n",
      "\n",
      "Urgent Care Manhattan,197 Amsterdam ,New York,NY,10023,n/a,Business Service\n",
      "\n",
      "Vaillancourt Pilates,\"1841 Broadway, Suite 1104\",New York,NY,10023,(212) 977-8894,Business Service\n",
      "\n",
      "Wirelessone Comm.,1845 Broadway,New York,NY,10023-,(212) 258-2220,Business Service\n",
      "\n",
      "Yogaworks,37 West 65th Street,New York,NY,10023,(212) 769-9642,Business Service\n",
      "\n"
     ]
    }
   ],
   "source": [
    "for line in inputFile:\n",
    "    print line"
   ]
  },
  {
   "cell_type": "code",
   "execution_count": 5,
   "metadata": {
    "collapsed": false
   },
   "outputs": [],
   "source": [
    "import csv #package for dealing with csv files"
   ]
  },
  {
   "cell_type": "markdown",
   "metadata": {},
   "source": [
    "###We use the csv.reader function to read in the columns properly, especially the ones that have commas in between double quotation marks.  This is a built in package to Python, but we still have to link to it with the import statement above\n",
    "###For more information, see https://docs.python.org/2/library/csv.html"
   ]
  },
  {
   "cell_type": "code",
   "execution_count": 7,
   "metadata": {
    "collapsed": false
   },
   "outputs": [],
   "source": [
    "inputReader = csv.reader(inputFile) "
   ]
  },
  {
   "cell_type": "code",
   "execution_count": 8,
   "metadata": {
    "collapsed": false,
    "scrolled": true
   },
   "outputs": [
    {
     "name": "stdout",
     "output_type": "stream",
     "text": [
      "['American Apparel ', '1841 Broadway', 'New York', 'NY', '10023-', '(212) 265-3386', 'Business Retail']\n",
      "['American Bible Society Bookstore', '1865 Broadway', 'New York', 'NY', '10023-', '(212) 408-1385', 'Business Retail']\n",
      "['American Folk Art Museum Book & Gift Shop', '125 Columbus Avenue', 'New York', 'NY', '10023-', '(212) 595 9533 X121', 'Business Retail']\n",
      "['Apple Store, Upper West Side', '1981 Broadway', 'New York', 'NY', '10023', '(212) 209-3400', 'Business Retail']\n",
      "['Banana Republic', '1976 Broadway', 'New York', 'NY', '10023-', '(212) 362-7320', 'Business Retail']\n",
      "['Barnes & Noble', '1972 Broadway', 'New York', 'NY', '10023', '(212) 595-6859', 'Business Retail']\n",
      "['BCBG Max Azria', '2005 Broadway', 'New York', 'NY', '10023-', '(212) 496-1853', 'Business Retail']\n",
      "['Bebe', '10 Columbus Circle', 'New York', 'NY', '10019', '(212) 262-2690', 'Business Retail']\n",
      "[\"Bolton's\", '181 Amsterdam Avenue', 'New York', 'NY', '10023-', '(212) 362-7396', 'Business Retail']\n",
      "['Brooks Brothers', '1934 Broadway', 'New York', 'NY', '10023', '(212) 362-2374', 'Business Retail']\n"
     ]
    }
   ],
   "source": [
    "#10 lines from the file\n",
    "for i in range(10):\n",
    "    print next(inputReader)"
   ]
  },
  {
   "cell_type": "code",
   "execution_count": 9,
   "metadata": {
    "collapsed": false,
    "scrolled": true
   },
   "outputs": [
    {
     "data": {
      "text/plain": [
       "['Burberry Brit',\n",
       " '160 Columbus Avenue',\n",
       " 'New York',\n",
       " 'NY',\n",
       " '10023',\n",
       " '(212) 595-0934',\n",
       " 'Business Retail']"
      ]
     },
     "execution_count": 9,
     "metadata": {},
     "output_type": "execute_result"
    }
   ],
   "source": [
    "test_line = next(inputReader) #the next function returns a line and I'm assigning that line to a variable. \n",
    "# This helps me test the input from the text.\n",
    "test_line"
   ]
  },
  {
   "cell_type": "code",
   "execution_count": 10,
   "metadata": {
    "collapsed": false
   },
   "outputs": [
    {
     "data": {
      "text/plain": [
       "'160 Columbus Avenue'"
      ]
     },
     "execution_count": 10,
     "metadata": {},
     "output_type": "execute_result"
    }
   ],
   "source": [
    "test_line[1]"
   ]
  },
  {
   "cell_type": "code",
   "execution_count": 11,
   "metadata": {
    "collapsed": false
   },
   "outputs": [],
   "source": [
    "#because we've already iterated through some of the file contents, it's best to re-open the file and start from the beginning\n",
    "inputFile = open('Lincoln_Square_BID_Business_List.csv','rU') \n",
    "header = next(inputFile) #take the next line and assign it to a variable\n",
    "inputReader = csv.reader(inputFile) "
   ]
  },
  {
   "cell_type": "code",
   "execution_count": 12,
   "metadata": {
    "collapsed": false
   },
   "outputs": [
    {
     "name": "stdout",
     "output_type": "stream",
     "text": [
      "1841 Broadway\n",
      "1865 Broadway\n",
      "125 Columbus Avenue\n",
      "1981 Broadway\n",
      "1976 Broadway\n",
      "1972 Broadway\n",
      "2005 Broadway\n",
      "10 Columbus Circle\n",
      "181 Amsterdam Avenue\n",
      "1934 Broadway\n",
      "160 Columbus Avenue\n",
      "201 Amsterdam Avenue\n",
      "1988 Broadway\n",
      "1992 Broadway\n",
      "2007 Broadway\n",
      "1841 Broadway\n",
      "154 Columbus Avenue\n",
      "1885 Broadway\n",
      "2017 Broadway\n",
      "1928 Broadway\n",
      "148 Columbus Avenue\n",
      "10 Columbus Circle\n",
      "30 Lincoln Plaza\n",
      "2030 Broadway\n",
      "191 Amsterdam Ave.\n",
      "1965 Broadway\n",
      "1961 Broadway\n",
      "151 Amsterdam Avenue\n",
      "2020 Broadway\n",
      "1873 Broadway\n",
      "20 West 64th Street\n",
      "60 Lincoln Center Plaza\n",
      "70 Lincoln Center Plaza\n",
      "2 Columbus Circle\n",
      "160 Columbus Avenue\n",
      "1870 Broadway\n",
      "10 Columbus Circle\n",
      "10 Columbus Circle\n",
      "1963 Broadway\n",
      "10 Columbus Circle\n",
      "10 Columbus Circle\n",
      "10 Columbus Circle\n",
      "10 Columbus Circle\n",
      "10 Columbus Circle\n",
      "10 Columbus Circle\n",
      "10 Columbus Circle\n",
      "10 Columbus Circle\n",
      "10 Columbus Circle\n",
      "10 Columbus Circle\n",
      "10 Columbus Circle\n",
      "10 Columbus Circle\n",
      "10 Columbus Circle\n",
      "10 Columbus Circle\n",
      "10 Columbus Circle\n",
      "10 Columbus Circle\n",
      "10 Columbus Circle\n",
      "10 Columbus Circle\n",
      "10 Columbus Circle\n",
      "10 Columbus Circle\n",
      "10 Columbus Circle\n",
      "10 Columbus Circle Suite 210\n",
      "10 Columbus Circle Ground Floor\n",
      "10 Columbus Circle\n",
      "10 Columbus Circle\n",
      "10 Columbus Circle\n",
      "10 Columbus Circle\n",
      "10 Columbus Circle, Ground Floor\n",
      "10 Columbus Circle\n",
      "10 Columbus Circle\n",
      "10 Columbus Circle\n",
      "10 Columbus Circle, 2nd Floor\n",
      "10 Columbus Circle\n",
      "10 Columbus Circle\n",
      "10 Columbus Circle\n",
      "10 Columbus Circle\n",
      "10 Columbus Circle\n",
      "148 West 67th Street\n",
      "1881 Broadway\n",
      "1998 Broadway\n",
      "147 Amsterdam Avenue\n",
      "1886 Broadway\n",
      "1932 Broadway\n",
      "1880 Broadway\n",
      "1926 Broadway\n",
      "2025 Broadway\n",
      "1860 Broadway\n",
      "2030 Broadway\n",
      "181 Amsterdam Avenue\n",
      "155 West 68th Street\n",
      "2025 Broadway\n",
      "1889 Broadway\n",
      "10 Columbus Circle\n",
      "137 West 67th Street\n",
      "10 Columbus Circle\n",
      "1841 Broadway\n",
      "155 West 66th St.\n",
      "2008 Broadway\n",
      "144 West 67th Street\n",
      "141 Amsterdam Avenue\n",
      "189 Amsterdam Avenue\n",
      "61 West 62nd Street\n",
      "2025 Broadway\n",
      "2001 Broadway\n",
      "145 Amsterdam Avenue\n",
      "1889 Broadway\n",
      "20 West 64th Street\n",
      "20 West 64th Street\n",
      "1886 Broadway, 30 Lincoln Plaza\n",
      "1886 Broadway\n",
      "140 West 67th Street\n",
      "149 Amsterdam Avenue\n",
      "163 Amsterdam Avenue\n",
      "215 Amsterdam Avenue\n",
      "189 Amsterdam Avenue\n",
      "169 Amsterdam Avenue\n",
      "61 West 62nd Street\n",
      "2009 Broadway\n",
      "2003 Broadway\n",
      "30 Lincoln Plaza\n",
      "44 West 62nd Street\n",
      "160 Columbus Avenue\n",
      "60 West 66th Street\n",
      "10 Columbus Circle\n",
      "167 Amsterdam Avenue\n",
      "1995 Broadway\n",
      "161 Amsterdam Avenue\n",
      "2016 Broadway\n",
      "197 Amsterdam \n",
      "1841 Broadway, Suite 1104\n",
      "1845 Broadway\n",
      "37 West 65th Street\n"
     ]
    }
   ],
   "source": [
    "#this time, we're just printing out the street address\n",
    "for line in inputReader:\n",
    "    print line[1]\n",
    "inputFile.close() #close the open input file"
   ]
  },
  {
   "cell_type": "code",
   "execution_count": 13,
   "metadata": {
    "collapsed": false
   },
   "outputs": [],
   "source": [
    "#because we've already iterated through and closed the file, we have to re-open the file\n",
    "inputFile = open('Lincoln_Square_BID_Business_List.csv','rU') \n",
    "header = next(inputFile) #take the next line and assign it to a variable\n",
    "inputReader = csv.reader(inputFile) "
   ]
  },
  {
   "cell_type": "code",
   "execution_count": 16,
   "metadata": {
    "collapsed": false
   },
   "outputs": [
    {
     "data": {
      "text/plain": [
       "'160'"
      ]
     },
     "execution_count": 16,
     "metadata": {},
     "output_type": "execute_result"
    }
   ],
   "source": [
    "test_line[1].split(\" \")[0]"
   ]
  },
  {
   "cell_type": "code",
   "execution_count": 21,
   "metadata": {
    "collapsed": false
   },
   "outputs": [
    {
     "data": {
      "text/plain": [
       "'Columbus Avenue'"
      ]
     },
     "execution_count": 21,
     "metadata": {},
     "output_type": "execute_result"
    }
   ],
   "source": [
    "' '.join(test_line[1].split(\" \")[1:])"
   ]
  },
  {
   "cell_type": "code",
   "execution_count": 26,
   "metadata": {
    "collapsed": false
   },
   "outputs": [
    {
     "data": {
      "text/plain": [
       "['Burberry Brit',\n",
       " '160 Columbus Avenue',\n",
       " 'New York',\n",
       " 'NY',\n",
       " '10023',\n",
       " '(212) 595-0934',\n",
       " 'Business Retail']"
      ]
     },
     "execution_count": 26,
     "metadata": {},
     "output_type": "execute_result"
    }
   ],
   "source": [
    "test_line"
   ]
  },
  {
   "cell_type": "code",
   "execution_count": 25,
   "metadata": {
    "collapsed": false
   },
   "outputs": [
    {
     "data": {
      "text/plain": [
       "'10023'"
      ]
     },
     "execution_count": 25,
     "metadata": {},
     "output_type": "execute_result"
    }
   ],
   "source": [
    "test_line[4][0:5]"
   ]
  },
  {
   "cell_type": "markdown",
   "metadata": {},
   "source": [
    "###This time, we're taking the address and inserting it into the API string I can check the string by clicking the link and it should provide me the response I'm looking for this allows me to test that I've constructed the string properly"
   ]
  },
  {
   "cell_type": "code",
   "execution_count": 27,
   "metadata": {
    "collapsed": false
   },
   "outputs": [
    {
     "name": "stdout",
     "output_type": "stream",
     "text": [
      "https://api.cityofnewyork.us/geoclient/v1/address.json?houseNumber=1841&street=Broadway&zip=10023&app_id=48eab85b&app_key=fa31219b4e426ff96a8ded2905e6ae3a\n",
      "https://api.cityofnewyork.us/geoclient/v1/address.json?houseNumber=1865&street=Broadway&zip=10023&app_id=48eab85b&app_key=fa31219b4e426ff96a8ded2905e6ae3a\n",
      "https://api.cityofnewyork.us/geoclient/v1/address.json?houseNumber=125&street=Columbus Avenue&zip=10023&app_id=48eab85b&app_key=fa31219b4e426ff96a8ded2905e6ae3a\n",
      "https://api.cityofnewyork.us/geoclient/v1/address.json?houseNumber=1981&street=Broadway&zip=10023&app_id=48eab85b&app_key=fa31219b4e426ff96a8ded2905e6ae3a\n",
      "https://api.cityofnewyork.us/geoclient/v1/address.json?houseNumber=1976&street=Broadway&zip=10023&app_id=48eab85b&app_key=fa31219b4e426ff96a8ded2905e6ae3a\n",
      "https://api.cityofnewyork.us/geoclient/v1/address.json?houseNumber=1972&street=Broadway&zip=10023&app_id=48eab85b&app_key=fa31219b4e426ff96a8ded2905e6ae3a\n",
      "https://api.cityofnewyork.us/geoclient/v1/address.json?houseNumber=2005&street=Broadway&zip=10023&app_id=48eab85b&app_key=fa31219b4e426ff96a8ded2905e6ae3a\n",
      "https://api.cityofnewyork.us/geoclient/v1/address.json?houseNumber=10&street=Columbus Circle&zip=10019&app_id=48eab85b&app_key=fa31219b4e426ff96a8ded2905e6ae3a\n",
      "https://api.cityofnewyork.us/geoclient/v1/address.json?houseNumber=181&street=Amsterdam Avenue&zip=10023&app_id=48eab85b&app_key=fa31219b4e426ff96a8ded2905e6ae3a\n",
      "https://api.cityofnewyork.us/geoclient/v1/address.json?houseNumber=1934&street=Broadway&zip=10023&app_id=48eab85b&app_key=fa31219b4e426ff96a8ded2905e6ae3a\n",
      "https://api.cityofnewyork.us/geoclient/v1/address.json?houseNumber=160&street=Columbus Avenue&zip=10023&app_id=48eab85b&app_key=fa31219b4e426ff96a8ded2905e6ae3a\n",
      "https://api.cityofnewyork.us/geoclient/v1/address.json?houseNumber=201&street=Amsterdam Avenue&zip=10023&app_id=48eab85b&app_key=fa31219b4e426ff96a8ded2905e6ae3a\n",
      "https://api.cityofnewyork.us/geoclient/v1/address.json?houseNumber=1988&street=Broadway&zip=10023&app_id=48eab85b&app_key=fa31219b4e426ff96a8ded2905e6ae3a\n",
      "https://api.cityofnewyork.us/geoclient/v1/address.json?houseNumber=1992&street=Broadway&zip=10023&app_id=48eab85b&app_key=fa31219b4e426ff96a8ded2905e6ae3a\n",
      "https://api.cityofnewyork.us/geoclient/v1/address.json?houseNumber=2007&street=Broadway&zip=10023&app_id=48eab85b&app_key=fa31219b4e426ff96a8ded2905e6ae3a\n",
      "https://api.cityofnewyork.us/geoclient/v1/address.json?houseNumber=1841&street=Broadway&zip=10023&app_id=48eab85b&app_key=fa31219b4e426ff96a8ded2905e6ae3a\n",
      "https://api.cityofnewyork.us/geoclient/v1/address.json?houseNumber=154&street=Columbus Avenue&zip=10023&app_id=48eab85b&app_key=fa31219b4e426ff96a8ded2905e6ae3a\n",
      "https://api.cityofnewyork.us/geoclient/v1/address.json?houseNumber=1885&street=Broadway&zip=10023&app_id=48eab85b&app_key=fa31219b4e426ff96a8ded2905e6ae3a\n",
      "https://api.cityofnewyork.us/geoclient/v1/address.json?houseNumber=2017&street=Broadway&zip=10023&app_id=48eab85b&app_key=fa31219b4e426ff96a8ded2905e6ae3a\n",
      "https://api.cityofnewyork.us/geoclient/v1/address.json?houseNumber=1928&street=Broadway&zip=10023&app_id=48eab85b&app_key=fa31219b4e426ff96a8ded2905e6ae3a\n",
      "https://api.cityofnewyork.us/geoclient/v1/address.json?houseNumber=148&street=Columbus Avenue&zip=10023&app_id=48eab85b&app_key=fa31219b4e426ff96a8ded2905e6ae3a\n",
      "https://api.cityofnewyork.us/geoclient/v1/address.json?houseNumber=10&street=Columbus Circle&zip=10019&app_id=48eab85b&app_key=fa31219b4e426ff96a8ded2905e6ae3a\n",
      "https://api.cityofnewyork.us/geoclient/v1/address.json?houseNumber=30&street=Lincoln Plaza&zip=10023&app_id=48eab85b&app_key=fa31219b4e426ff96a8ded2905e6ae3a\n",
      "https://api.cityofnewyork.us/geoclient/v1/address.json?houseNumber=2030&street=Broadway&zip=10023&app_id=48eab85b&app_key=fa31219b4e426ff96a8ded2905e6ae3a\n",
      "https://api.cityofnewyork.us/geoclient/v1/address.json?houseNumber=191&street=Amsterdam Ave.&zip=10023&app_id=48eab85b&app_key=fa31219b4e426ff96a8ded2905e6ae3a\n",
      "https://api.cityofnewyork.us/geoclient/v1/address.json?houseNumber=1965&street=Broadway&zip=10023&app_id=48eab85b&app_key=fa31219b4e426ff96a8ded2905e6ae3a\n",
      "https://api.cityofnewyork.us/geoclient/v1/address.json?houseNumber=1961&street=Broadway&zip=10023&app_id=48eab85b&app_key=fa31219b4e426ff96a8ded2905e6ae3a\n",
      "https://api.cityofnewyork.us/geoclient/v1/address.json?houseNumber=151&street=Amsterdam Avenue&zip=10023&app_id=48eab85b&app_key=fa31219b4e426ff96a8ded2905e6ae3a\n",
      "https://api.cityofnewyork.us/geoclient/v1/address.json?houseNumber=2020&street=Broadway&zip=10023&app_id=48eab85b&app_key=fa31219b4e426ff96a8ded2905e6ae3a\n",
      "https://api.cityofnewyork.us/geoclient/v1/address.json?houseNumber=1873&street=Broadway&zip=10023&app_id=48eab85b&app_key=fa31219b4e426ff96a8ded2905e6ae3a\n",
      "https://api.cityofnewyork.us/geoclient/v1/address.json?houseNumber=20&street=West 64th Street&zip=10023&app_id=48eab85b&app_key=fa31219b4e426ff96a8ded2905e6ae3a\n",
      "https://api.cityofnewyork.us/geoclient/v1/address.json?houseNumber=60&street=Lincoln Center Plaza&zip=10023&app_id=48eab85b&app_key=fa31219b4e426ff96a8ded2905e6ae3a\n",
      "https://api.cityofnewyork.us/geoclient/v1/address.json?houseNumber=70&street=Lincoln Center Plaza&zip=10023&app_id=48eab85b&app_key=fa31219b4e426ff96a8ded2905e6ae3a\n",
      "https://api.cityofnewyork.us/geoclient/v1/address.json?houseNumber=2&street=Columbus Circle&zip=10019&app_id=48eab85b&app_key=fa31219b4e426ff96a8ded2905e6ae3a\n",
      "https://api.cityofnewyork.us/geoclient/v1/address.json?houseNumber=160&street=Columbus Avenue&zip=10023&app_id=48eab85b&app_key=fa31219b4e426ff96a8ded2905e6ae3a\n",
      "https://api.cityofnewyork.us/geoclient/v1/address.json?houseNumber=1870&street=Broadway&zip=10023&app_id=48eab85b&app_key=fa31219b4e426ff96a8ded2905e6ae3a\n",
      "https://api.cityofnewyork.us/geoclient/v1/address.json?houseNumber=10&street=Columbus Circle&zip=10019&app_id=48eab85b&app_key=fa31219b4e426ff96a8ded2905e6ae3a\n",
      "https://api.cityofnewyork.us/geoclient/v1/address.json?houseNumber=10&street=Columbus Circle&zip=10019&app_id=48eab85b&app_key=fa31219b4e426ff96a8ded2905e6ae3a\n",
      "https://api.cityofnewyork.us/geoclient/v1/address.json?houseNumber=1963&street=Broadway&zip=10023&app_id=48eab85b&app_key=fa31219b4e426ff96a8ded2905e6ae3a\n",
      "https://api.cityofnewyork.us/geoclient/v1/address.json?houseNumber=10&street=Columbus Circle&zip=10019&app_id=48eab85b&app_key=fa31219b4e426ff96a8ded2905e6ae3a\n",
      "https://api.cityofnewyork.us/geoclient/v1/address.json?houseNumber=10&street=Columbus Circle&zip=10019&app_id=48eab85b&app_key=fa31219b4e426ff96a8ded2905e6ae3a\n",
      "https://api.cityofnewyork.us/geoclient/v1/address.json?houseNumber=10&street=Columbus Circle&zip=10019&app_id=48eab85b&app_key=fa31219b4e426ff96a8ded2905e6ae3a\n",
      "https://api.cityofnewyork.us/geoclient/v1/address.json?houseNumber=10&street=Columbus Circle&zip=10019&app_id=48eab85b&app_key=fa31219b4e426ff96a8ded2905e6ae3a\n",
      "https://api.cityofnewyork.us/geoclient/v1/address.json?houseNumber=10&street=Columbus Circle&zip=10019&app_id=48eab85b&app_key=fa31219b4e426ff96a8ded2905e6ae3a\n",
      "https://api.cityofnewyork.us/geoclient/v1/address.json?houseNumber=10&street=Columbus Circle&zip=10019&app_id=48eab85b&app_key=fa31219b4e426ff96a8ded2905e6ae3a\n",
      "https://api.cityofnewyork.us/geoclient/v1/address.json?houseNumber=10&street=Columbus Circle&zip=10019&app_id=48eab85b&app_key=fa31219b4e426ff96a8ded2905e6ae3a\n",
      "https://api.cityofnewyork.us/geoclient/v1/address.json?houseNumber=10&street=Columbus Circle&zip=10019&app_id=48eab85b&app_key=fa31219b4e426ff96a8ded2905e6ae3a\n",
      "https://api.cityofnewyork.us/geoclient/v1/address.json?houseNumber=10&street=Columbus Circle&zip=10019&app_id=48eab85b&app_key=fa31219b4e426ff96a8ded2905e6ae3a\n",
      "https://api.cityofnewyork.us/geoclient/v1/address.json?houseNumber=10&street=Columbus Circle&zip=10019&app_id=48eab85b&app_key=fa31219b4e426ff96a8ded2905e6ae3a\n",
      "https://api.cityofnewyork.us/geoclient/v1/address.json?houseNumber=10&street=Columbus Circle&zip=10019&app_id=48eab85b&app_key=fa31219b4e426ff96a8ded2905e6ae3a\n",
      "https://api.cityofnewyork.us/geoclient/v1/address.json?houseNumber=10&street=Columbus Circle&zip=10019&app_id=48eab85b&app_key=fa31219b4e426ff96a8ded2905e6ae3a\n",
      "https://api.cityofnewyork.us/geoclient/v1/address.json?houseNumber=10&street=Columbus Circle&zip=10019&app_id=48eab85b&app_key=fa31219b4e426ff96a8ded2905e6ae3a\n",
      "https://api.cityofnewyork.us/geoclient/v1/address.json?houseNumber=10&street=Columbus Circle&zip=10019&app_id=48eab85b&app_key=fa31219b4e426ff96a8ded2905e6ae3a\n",
      "https://api.cityofnewyork.us/geoclient/v1/address.json?houseNumber=10&street=Columbus Circle&zip=10019&app_id=48eab85b&app_key=fa31219b4e426ff96a8ded2905e6ae3a\n",
      "https://api.cityofnewyork.us/geoclient/v1/address.json?houseNumber=10&street=Columbus Circle&zip=10019&app_id=48eab85b&app_key=fa31219b4e426ff96a8ded2905e6ae3a\n",
      "https://api.cityofnewyork.us/geoclient/v1/address.json?houseNumber=10&street=Columbus Circle&zip=10019&app_id=48eab85b&app_key=fa31219b4e426ff96a8ded2905e6ae3a\n",
      "https://api.cityofnewyork.us/geoclient/v1/address.json?houseNumber=10&street=Columbus Circle&zip=10019&app_id=48eab85b&app_key=fa31219b4e426ff96a8ded2905e6ae3a\n",
      "https://api.cityofnewyork.us/geoclient/v1/address.json?houseNumber=10&street=Columbus Circle&zip=10019&app_id=48eab85b&app_key=fa31219b4e426ff96a8ded2905e6ae3a\n",
      "https://api.cityofnewyork.us/geoclient/v1/address.json?houseNumber=10&street=Columbus Circle&zip=10019&app_id=48eab85b&app_key=fa31219b4e426ff96a8ded2905e6ae3a\n",
      "https://api.cityofnewyork.us/geoclient/v1/address.json?houseNumber=10&street=Columbus Circle&zip=10019&app_id=48eab85b&app_key=fa31219b4e426ff96a8ded2905e6ae3a\n",
      "https://api.cityofnewyork.us/geoclient/v1/address.json?houseNumber=10&street=Columbus Circle Suite 210&zip=10019&app_id=48eab85b&app_key=fa31219b4e426ff96a8ded2905e6ae3a\n",
      "https://api.cityofnewyork.us/geoclient/v1/address.json?houseNumber=10&street=Columbus Circle Ground Floor&zip=10019&app_id=48eab85b&app_key=fa31219b4e426ff96a8ded2905e6ae3a\n",
      "https://api.cityofnewyork.us/geoclient/v1/address.json?houseNumber=10&street=Columbus Circle&zip=10019&app_id=48eab85b&app_key=fa31219b4e426ff96a8ded2905e6ae3a\n",
      "https://api.cityofnewyork.us/geoclient/v1/address.json?houseNumber=10&street=Columbus Circle&zip=10019&app_id=48eab85b&app_key=fa31219b4e426ff96a8ded2905e6ae3a\n",
      "https://api.cityofnewyork.us/geoclient/v1/address.json?houseNumber=10&street=Columbus Circle&zip=10019&app_id=48eab85b&app_key=fa31219b4e426ff96a8ded2905e6ae3a\n",
      "https://api.cityofnewyork.us/geoclient/v1/address.json?houseNumber=10&street=Columbus Circle&zip=10019&app_id=48eab85b&app_key=fa31219b4e426ff96a8ded2905e6ae3a\n",
      "https://api.cityofnewyork.us/geoclient/v1/address.json?houseNumber=10&street=Columbus Circle, Ground Floor&zip=10019&app_id=48eab85b&app_key=fa31219b4e426ff96a8ded2905e6ae3a\n",
      "https://api.cityofnewyork.us/geoclient/v1/address.json?houseNumber=10&street=Columbus Circle&zip=10019&app_id=48eab85b&app_key=fa31219b4e426ff96a8ded2905e6ae3a\n",
      "https://api.cityofnewyork.us/geoclient/v1/address.json?houseNumber=10&street=Columbus Circle&zip=10019&app_id=48eab85b&app_key=fa31219b4e426ff96a8ded2905e6ae3a\n",
      "https://api.cityofnewyork.us/geoclient/v1/address.json?houseNumber=10&street=Columbus Circle&zip=10019&app_id=48eab85b&app_key=fa31219b4e426ff96a8ded2905e6ae3a\n",
      "https://api.cityofnewyork.us/geoclient/v1/address.json?houseNumber=10&street=Columbus Circle, 2nd Floor&zip=10019&app_id=48eab85b&app_key=fa31219b4e426ff96a8ded2905e6ae3a\n",
      "https://api.cityofnewyork.us/geoclient/v1/address.json?houseNumber=10&street=Columbus Circle&zip=10019&app_id=48eab85b&app_key=fa31219b4e426ff96a8ded2905e6ae3a\n",
      "https://api.cityofnewyork.us/geoclient/v1/address.json?houseNumber=10&street=Columbus Circle&zip=10019&app_id=48eab85b&app_key=fa31219b4e426ff96a8ded2905e6ae3a\n",
      "https://api.cityofnewyork.us/geoclient/v1/address.json?houseNumber=10&street=Columbus Circle&zip=10019&app_id=48eab85b&app_key=fa31219b4e426ff96a8ded2905e6ae3a\n",
      "https://api.cityofnewyork.us/geoclient/v1/address.json?houseNumber=10&street=Columbus Circle&zip=10019&app_id=48eab85b&app_key=fa31219b4e426ff96a8ded2905e6ae3a\n",
      "https://api.cityofnewyork.us/geoclient/v1/address.json?houseNumber=10&street=Columbus Circle&zip=10019&app_id=48eab85b&app_key=fa31219b4e426ff96a8ded2905e6ae3a\n",
      "https://api.cityofnewyork.us/geoclient/v1/address.json?houseNumber=148&street=West 67th Street&zip=10023&app_id=48eab85b&app_key=fa31219b4e426ff96a8ded2905e6ae3a\n",
      "https://api.cityofnewyork.us/geoclient/v1/address.json?houseNumber=1881&street=Broadway&zip=10023&app_id=48eab85b&app_key=fa31219b4e426ff96a8ded2905e6ae3a\n",
      "https://api.cityofnewyork.us/geoclient/v1/address.json?houseNumber=1998&street=Broadway&zip=10023&app_id=48eab85b&app_key=fa31219b4e426ff96a8ded2905e6ae3a\n",
      "https://api.cityofnewyork.us/geoclient/v1/address.json?houseNumber=147&street=Amsterdam Avenue&zip=10023&app_id=48eab85b&app_key=fa31219b4e426ff96a8ded2905e6ae3a\n",
      "https://api.cityofnewyork.us/geoclient/v1/address.json?houseNumber=1886&street=Broadway&zip=10023&app_id=48eab85b&app_key=fa31219b4e426ff96a8ded2905e6ae3a\n",
      "https://api.cityofnewyork.us/geoclient/v1/address.json?houseNumber=1932&street=Broadway&zip=10023&app_id=48eab85b&app_key=fa31219b4e426ff96a8ded2905e6ae3a\n",
      "https://api.cityofnewyork.us/geoclient/v1/address.json?houseNumber=1880&street=Broadway&zip=10023&app_id=48eab85b&app_key=fa31219b4e426ff96a8ded2905e6ae3a\n",
      "https://api.cityofnewyork.us/geoclient/v1/address.json?houseNumber=1926&street=Broadway&zip=10023&app_id=48eab85b&app_key=fa31219b4e426ff96a8ded2905e6ae3a\n",
      "https://api.cityofnewyork.us/geoclient/v1/address.json?houseNumber=2025&street=Broadway&zip=10023&app_id=48eab85b&app_key=fa31219b4e426ff96a8ded2905e6ae3a\n",
      "https://api.cityofnewyork.us/geoclient/v1/address.json?houseNumber=1860&street=Broadway&zip=10023&app_id=48eab85b&app_key=fa31219b4e426ff96a8ded2905e6ae3a\n",
      "https://api.cityofnewyork.us/geoclient/v1/address.json?houseNumber=2030&street=Broadway&zip=10023&app_id=48eab85b&app_key=fa31219b4e426ff96a8ded2905e6ae3a\n",
      "https://api.cityofnewyork.us/geoclient/v1/address.json?houseNumber=181&street=Amsterdam Avenue&zip=10023&app_id=48eab85b&app_key=fa31219b4e426ff96a8ded2905e6ae3a\n",
      "https://api.cityofnewyork.us/geoclient/v1/address.json?houseNumber=155&street=West 68th Street&zip=10023&app_id=48eab85b&app_key=fa31219b4e426ff96a8ded2905e6ae3a\n",
      "https://api.cityofnewyork.us/geoclient/v1/address.json?houseNumber=2025&street=Broadway&zip=10023&app_id=48eab85b&app_key=fa31219b4e426ff96a8ded2905e6ae3a\n",
      "https://api.cityofnewyork.us/geoclient/v1/address.json?houseNumber=1889&street=Broadway&zip=10023&app_id=48eab85b&app_key=fa31219b4e426ff96a8ded2905e6ae3a\n",
      "https://api.cityofnewyork.us/geoclient/v1/address.json?houseNumber=10&street=Columbus Circle&zip=10019&app_id=48eab85b&app_key=fa31219b4e426ff96a8ded2905e6ae3a\n",
      "https://api.cityofnewyork.us/geoclient/v1/address.json?houseNumber=137&street=West 67th Street&zip=10023&app_id=48eab85b&app_key=fa31219b4e426ff96a8ded2905e6ae3a\n",
      "https://api.cityofnewyork.us/geoclient/v1/address.json?houseNumber=10&street=Columbus Circle&zip=10019&app_id=48eab85b&app_key=fa31219b4e426ff96a8ded2905e6ae3a\n",
      "https://api.cityofnewyork.us/geoclient/v1/address.json?houseNumber=1841&street=Broadway&zip=10023&app_id=48eab85b&app_key=fa31219b4e426ff96a8ded2905e6ae3a\n",
      "https://api.cityofnewyork.us/geoclient/v1/address.json?houseNumber=155&street=West 66th St.&zip=10023&app_id=48eab85b&app_key=fa31219b4e426ff96a8ded2905e6ae3a\n",
      "https://api.cityofnewyork.us/geoclient/v1/address.json?houseNumber=2008&street=Broadway&zip=10023&app_id=48eab85b&app_key=fa31219b4e426ff96a8ded2905e6ae3a\n",
      "https://api.cityofnewyork.us/geoclient/v1/address.json?houseNumber=144&street=West 67th Street&zip=10023&app_id=48eab85b&app_key=fa31219b4e426ff96a8ded2905e6ae3a\n",
      "https://api.cityofnewyork.us/geoclient/v1/address.json?houseNumber=141&street=Amsterdam Avenue&zip=10023&app_id=48eab85b&app_key=fa31219b4e426ff96a8ded2905e6ae3a\n",
      "https://api.cityofnewyork.us/geoclient/v1/address.json?houseNumber=189&street=Amsterdam Avenue&zip=10023&app_id=48eab85b&app_key=fa31219b4e426ff96a8ded2905e6ae3a\n",
      "https://api.cityofnewyork.us/geoclient/v1/address.json?houseNumber=61&street=West 62nd Street&zip=10023&app_id=48eab85b&app_key=fa31219b4e426ff96a8ded2905e6ae3a\n",
      "https://api.cityofnewyork.us/geoclient/v1/address.json?houseNumber=2025&street=Broadway&zip=10023&app_id=48eab85b&app_key=fa31219b4e426ff96a8ded2905e6ae3a\n",
      "https://api.cityofnewyork.us/geoclient/v1/address.json?houseNumber=2001&street=Broadway&zip=10023&app_id=48eab85b&app_key=fa31219b4e426ff96a8ded2905e6ae3a\n",
      "https://api.cityofnewyork.us/geoclient/v1/address.json?houseNumber=145&street=Amsterdam Avenue&zip=10023&app_id=48eab85b&app_key=fa31219b4e426ff96a8ded2905e6ae3a\n",
      "https://api.cityofnewyork.us/geoclient/v1/address.json?houseNumber=1889&street=Broadway&zip=10023&app_id=48eab85b&app_key=fa31219b4e426ff96a8ded2905e6ae3a\n",
      "https://api.cityofnewyork.us/geoclient/v1/address.json?houseNumber=20&street=West 64th Street&zip=10023&app_id=48eab85b&app_key=fa31219b4e426ff96a8ded2905e6ae3a\n",
      "https://api.cityofnewyork.us/geoclient/v1/address.json?houseNumber=20&street=West 64th Street&zip=10023&app_id=48eab85b&app_key=fa31219b4e426ff96a8ded2905e6ae3a\n",
      "https://api.cityofnewyork.us/geoclient/v1/address.json?houseNumber=1886&street=Broadway, 30 Lincoln Plaza&zip=10023&app_id=48eab85b&app_key=fa31219b4e426ff96a8ded2905e6ae3a\n",
      "https://api.cityofnewyork.us/geoclient/v1/address.json?houseNumber=1886&street=Broadway&zip=10023&app_id=48eab85b&app_key=fa31219b4e426ff96a8ded2905e6ae3a\n",
      "https://api.cityofnewyork.us/geoclient/v1/address.json?houseNumber=140&street=West 67th Street&zip=10023&app_id=48eab85b&app_key=fa31219b4e426ff96a8ded2905e6ae3a\n",
      "https://api.cityofnewyork.us/geoclient/v1/address.json?houseNumber=149&street=Amsterdam Avenue&zip=10023&app_id=48eab85b&app_key=fa31219b4e426ff96a8ded2905e6ae3a\n",
      "https://api.cityofnewyork.us/geoclient/v1/address.json?houseNumber=163&street=Amsterdam Avenue&zip=10023&app_id=48eab85b&app_key=fa31219b4e426ff96a8ded2905e6ae3a\n",
      "https://api.cityofnewyork.us/geoclient/v1/address.json?houseNumber=215&street=Amsterdam Avenue&zip=10023&app_id=48eab85b&app_key=fa31219b4e426ff96a8ded2905e6ae3a\n",
      "https://api.cityofnewyork.us/geoclient/v1/address.json?houseNumber=189&street=Amsterdam Avenue&zip=10023&app_id=48eab85b&app_key=fa31219b4e426ff96a8ded2905e6ae3a\n",
      "https://api.cityofnewyork.us/geoclient/v1/address.json?houseNumber=169&street=Amsterdam Avenue&zip=10023&app_id=48eab85b&app_key=fa31219b4e426ff96a8ded2905e6ae3a\n",
      "https://api.cityofnewyork.us/geoclient/v1/address.json?houseNumber=61&street=West 62nd Street&zip=10023&app_id=48eab85b&app_key=fa31219b4e426ff96a8ded2905e6ae3a\n",
      "https://api.cityofnewyork.us/geoclient/v1/address.json?houseNumber=2009&street=Broadway&zip=10023&app_id=48eab85b&app_key=fa31219b4e426ff96a8ded2905e6ae3a\n",
      "https://api.cityofnewyork.us/geoclient/v1/address.json?houseNumber=2003&street=Broadway&zip=10023&app_id=48eab85b&app_key=fa31219b4e426ff96a8ded2905e6ae3a\n",
      "https://api.cityofnewyork.us/geoclient/v1/address.json?houseNumber=30&street=Lincoln Plaza&zip=10023&app_id=48eab85b&app_key=fa31219b4e426ff96a8ded2905e6ae3a\n",
      "https://api.cityofnewyork.us/geoclient/v1/address.json?houseNumber=44&street=West 62nd Street&zip=10023&app_id=48eab85b&app_key=fa31219b4e426ff96a8ded2905e6ae3a\n",
      "https://api.cityofnewyork.us/geoclient/v1/address.json?houseNumber=160&street=Columbus Avenue&zip=10023&app_id=48eab85b&app_key=fa31219b4e426ff96a8ded2905e6ae3a\n",
      "https://api.cityofnewyork.us/geoclient/v1/address.json?houseNumber=60&street=West 66th Street&zip=10023&app_id=48eab85b&app_key=fa31219b4e426ff96a8ded2905e6ae3a\n",
      "https://api.cityofnewyork.us/geoclient/v1/address.json?houseNumber=10&street=Columbus Circle&zip=10019&app_id=48eab85b&app_key=fa31219b4e426ff96a8ded2905e6ae3a\n",
      "https://api.cityofnewyork.us/geoclient/v1/address.json?houseNumber=167&street=Amsterdam Avenue&zip=10023&app_id=48eab85b&app_key=fa31219b4e426ff96a8ded2905e6ae3a\n",
      "https://api.cityofnewyork.us/geoclient/v1/address.json?houseNumber=1995&street=Broadway&zip=10023&app_id=48eab85b&app_key=fa31219b4e426ff96a8ded2905e6ae3a\n",
      "https://api.cityofnewyork.us/geoclient/v1/address.json?houseNumber=161&street=Amsterdam Avenue&zip=10023&app_id=48eab85b&app_key=fa31219b4e426ff96a8ded2905e6ae3a\n",
      "https://api.cityofnewyork.us/geoclient/v1/address.json?houseNumber=2016&street=Broadway&zip=10023&app_id=48eab85b&app_key=fa31219b4e426ff96a8ded2905e6ae3a\n",
      "https://api.cityofnewyork.us/geoclient/v1/address.json?houseNumber=197&street=Amsterdam &zip=10023&app_id=48eab85b&app_key=fa31219b4e426ff96a8ded2905e6ae3a\n",
      "https://api.cityofnewyork.us/geoclient/v1/address.json?houseNumber=1841&street=Broadway, Suite 1104&zip=10023&app_id=48eab85b&app_key=fa31219b4e426ff96a8ded2905e6ae3a\n",
      "https://api.cityofnewyork.us/geoclient/v1/address.json?houseNumber=1845&street=Broadway&zip=10023&app_id=48eab85b&app_key=fa31219b4e426ff96a8ded2905e6ae3a\n",
      "https://api.cityofnewyork.us/geoclient/v1/address.json?houseNumber=37&street=West 65th Street&zip=10023&app_id=48eab85b&app_key=fa31219b4e426ff96a8ded2905e6ae3a\n"
     ]
    }
   ],
   "source": [
    "for line in inputReader:\n",
    "    houseNumber = line[1].split(\" \")[0] #take the first segment of the address\n",
    "    street = ' '.join(line[1].split(\" \")[1:]) #take the rest of the address as the street\n",
    "    zipcode = line[4][:5]\n",
    "    print('https://api.cityofnewyork.us/geoclient/v1/address.json?houseNumber=' + houseNumber + '&street=' + street + '&zip=' + zipcode + '&app_id=' + APP_ID + '&app_key=' + APP_KEY)\n",
    "\n",
    "inputFile.close() #close the open input file"
   ]
  },
  {
   "cell_type": "markdown",
   "metadata": {},
   "source": [
    "##Requests package for executing web requests [('HTTP for Humans')](http://docs.python-requests.org/en/latest/)"
   ]
  },
  {
   "cell_type": "code",
   "execution_count": 28,
   "metadata": {
    "collapsed": false
   },
   "outputs": [],
   "source": [
    "import requests"
   ]
  },
  {
   "cell_type": "code",
   "execution_count": 29,
   "metadata": {
    "collapsed": false
   },
   "outputs": [],
   "source": [
    "#This is a test call using the values from the last loop using requests.get\n",
    "r = requests.get('https://api.cityofnewyork.us/geoclient/v1/address.json?houseNumber=' + houseNumber + '&street=' + street + '&zip=' + zipcode + '&app_id=' + APP_ID + '&app_key=' + APP_KEY)"
   ]
  },
  {
   "cell_type": "markdown",
   "metadata": {},
   "source": [
    "###Just like with OpenRefine, we have to navigate the tree. The 'u' before the string indicates it's in [Unicode format](http://en.wikipedia.org/wiki/Unicode_symbols)\n",
    "###I use this test response to know which fields to use in my for loop later on"
   ]
  },
  {
   "cell_type": "code",
   "execution_count": 30,
   "metadata": {
    "collapsed": false
   },
   "outputs": [
    {
     "data": {
      "text/plain": [
       "{u'address': {u'assemblyDistrict': u'75',\n",
       "  u'bbl': u'1011180005',\n",
       "  u'bblBoroughCode': u'1',\n",
       "  u'bblTaxBlock': u'01118',\n",
       "  u'bblTaxLot': u'0005',\n",
       "  u'boardOfElectionsPreferredLgc': u'1',\n",
       "  u'boePreferredStreetName': u'WEST   65 STREET',\n",
       "  u'boePreferredstreetCode': u'13507001',\n",
       "  u'buildingIdentificationNumber': u'1028160',\n",
       "  u'businessImprovementDistrict': u'113175',\n",
       "  u'censusBlock2000': u'1000',\n",
       "  u'censusBlock2010': u'2000',\n",
       "  u'censusTract1990': u' 149  ',\n",
       "  u'censusTract2000': u' 149  ',\n",
       "  u'censusTract2010': u' 149  ',\n",
       "  u'cityCouncilDistrict': u'06',\n",
       "  u'civilCourtDistrict': u'05',\n",
       "  u'coincidentSegmentCount': u'1',\n",
       "  u'communityDistrict': u'107',\n",
       "  u'communityDistrictBoroughCode': u'1',\n",
       "  u'communityDistrictNumber': u'07',\n",
       "  u'communitySchoolDistrict': u'03',\n",
       "  u'condominiumBillingBbl': u'0000000000',\n",
       "  u'congressionalDistrict': u'10',\n",
       "  u'cooperativeIdNumber': u'0000',\n",
       "  u'crossStreetNamesFlagIn': u'E',\n",
       "  u'dcpCommercialStudyArea': u'11026',\n",
       "  u'dcpPreferredLgc': u'01',\n",
       "  u'dotStreetLightContractorArea': u'1',\n",
       "  u'dynamicBlock': u'101',\n",
       "  u'electionDistrict': u'097',\n",
       "  u'fireBattalion': u'09',\n",
       "  u'fireCompanyNumber': u'035',\n",
       "  u'fireCompanyType': u'L',\n",
       "  u'fireDivision': u'03',\n",
       "  u'firstBoroughName': u'MANHATTAN',\n",
       "  u'firstStreetCode': u'13507001010',\n",
       "  u'firstStreetNameNormalized': u'WEST   65 STREET',\n",
       "  u'fromLionNodeId': u'0023254',\n",
       "  u'fromPreferredLgcsFirstSetOf5': u'0101',\n",
       "  u'genericId': u'0003610',\n",
       "  u'geosupportFunctionCode': u'1B',\n",
       "  u'geosupportReturnCode': u'00',\n",
       "  u'geosupportReturnCode2': u'00',\n",
       "  u'gi5DigitStreetCode1': u'35070',\n",
       "  u'giBoroughCode1': u'1',\n",
       "  u'giBuildingIdentificationNumber1': u'1028160',\n",
       "  u'giDcpPreferredLgc1': u'01',\n",
       "  u'giHighHouseNumber1': u'43',\n",
       "  u'giLowHouseNumber1': u'37',\n",
       "  u'giSideOfStreetIndicator1': u'R',\n",
       "  u'giStreetCode1': u'13507001',\n",
       "  u'giStreetName1': u'WEST   65 STREET',\n",
       "  u'healthArea': u'4000',\n",
       "  u'healthCenterDistrict': u'15',\n",
       "  u'highBblOfThisBuildingsCondominiumUnits': u'1011180005',\n",
       "  u'highCrossStreetB5SC1': u'115710',\n",
       "  u'highCrossStreetCode1': u'11571001',\n",
       "  u'highCrossStreetName1': u'COLUMBUS AVENUE',\n",
       "  u'highHouseNumberOfBlockfaceSortFormat': u'000099000AA',\n",
       "  u'houseNumber': u'37',\n",
       "  u'houseNumberIn': u'37',\n",
       "  u'houseNumberSortFormat': u'000037000AA',\n",
       "  u'hurricaneEvacuationZone': u'X',\n",
       "  u'instructionalRegion': u'MN',\n",
       "  u'interimAssistanceEligibilityIndicator': u'I',\n",
       "  u'internalLabelXCoordinate': u'0989440',\n",
       "  u'internalLabelYCoordinate': u'0220863',\n",
       "  u'latitude': 40.77228046241657,\n",
       "  u'latitudeInternalLabel': 40.77289268880437,\n",
       "  u'legacySegmentId': u'0037063',\n",
       "  u'lionBoroughCode': u'1',\n",
       "  u'lionBoroughCodeForVanityAddress': u'1',\n",
       "  u'lionFaceCode': u'5110',\n",
       "  u'lionFaceCodeForVanityAddress': u'5110',\n",
       "  u'lionKey': u'1511000010',\n",
       "  u'lionKeyForVanityAddress': u'1511000010',\n",
       "  u'lionSequenceNumber': u'00010',\n",
       "  u'lionSequenceNumberForVanityAddress': u'00010',\n",
       "  u'listOf4Lgcs': u'01',\n",
       "  u'longitude': -73.98036321722904,\n",
       "  u'longitudeInternalLabel': -73.98126202620905,\n",
       "  u'lowBblOfThisBuildingsCondominiumUnits': u'1011180005',\n",
       "  u'lowCrossStreetB5SC1': u'114510',\n",
       "  u'lowCrossStreetB5SC2': u'197540',\n",
       "  u'lowCrossStreetCode1': u'11451001',\n",
       "  u'lowCrossStreetCode2': u'19754001',\n",
       "  u'lowCrossStreetName1': u'CENTRAL PARK WEST',\n",
       "  u'lowCrossStreetName2': u'65 ST TRANSVERSE',\n",
       "  u'lowHouseNumberOfBlockfaceSortFormat': u'000001000AA',\n",
       "  u'lowHouseNumberOfDefiningAddressRange': u'000037000AA',\n",
       "  u'nta': u'MN14',\n",
       "  u'ntaName': u'Lincoln Square',\n",
       "  u'numberOfCrossStreetB5SCsHighAddressEnd': u'1',\n",
       "  u'numberOfCrossStreetB5SCsLowAddressEnd': u'2',\n",
       "  u'numberOfCrossStreetsHighAddressEnd': u'1',\n",
       "  u'numberOfCrossStreetsLowAddressEnd': u'2',\n",
       "  u'numberOfEntriesInListOfGeographicIdentifiers': u'0001',\n",
       "  u'numberOfExistingStructuresOnLot': u'0001',\n",
       "  u'numberOfStreetFrontagesOfLot': u'01',\n",
       "  u'physicalId': u'0004270',\n",
       "  u'policePatrolBoroughCommand': u'2',\n",
       "  u'policePrecinct': u'020',\n",
       "  u'returnCode1a': u'00',\n",
       "  u'returnCode1e': u'00',\n",
       "  u'roadwayType': u'1',\n",
       "  u'rpadBuildingClassificationCode': u'O9',\n",
       "  u'rpadSelfCheckCodeForBbl': u'8',\n",
       "  u'sanbornBoroughCode': u'1',\n",
       "  u'sanbornPageNumber': u'025',\n",
       "  u'sanbornVolumeNumber': u'06',\n",
       "  u'sanbornVolumeNumberSuffix': u'W',\n",
       "  u'sanitationCollectionSchedulingSectionAndSubsection': u'1A',\n",
       "  u'sanitationDistrict': u'107',\n",
       "  u'sanitationRecyclingCollectionSchedule': u'EF',\n",
       "  u'sanitationRegularCollectionSchedule': u'MWF',\n",
       "  u'sanitationSnowPriorityCode': u'P',\n",
       "  u'segmentAzimuth': u'151',\n",
       "  u'segmentIdentifier': u'0037063',\n",
       "  u'segmentLengthInFeet': u'00913',\n",
       "  u'segmentOrientation': u'W',\n",
       "  u'segmentTypeCode': u'U',\n",
       "  u'sideOfStreetIndicator': u'R',\n",
       "  u'sideOfStreetOfVanityAddress': u'R',\n",
       "  u'splitLowHouseNumber': u'000001000AA',\n",
       "  u'stateSenatorialDistrict': u'27',\n",
       "  u'streetName1In': u'WEST 65TH STREET',\n",
       "  u'streetStatus': u'2',\n",
       "  u'taxMapNumberSectionAndVolume': u'10406',\n",
       "  u'toLionNodeId': u'0021711',\n",
       "  u'toPreferredLgcsFirstSetOf5': u'01',\n",
       "  u'trafficDirection': u'A',\n",
       "  u'underlyingStreetCode': u'13507001',\n",
       "  u'uspsPreferredCityName': u'NEW YORK',\n",
       "  u'workAreaFormatIndicatorIn': u'C',\n",
       "  u'xCoordinate': u'0989689',\n",
       "  u'xCoordinateHighAddressEnd': u'0989214',\n",
       "  u'xCoordinateLowAddressEnd': u'0990013',\n",
       "  u'xCoordinateOfCenterofCurvature': u'0000000',\n",
       "  u'yCoordinate': u'0220640',\n",
       "  u'yCoordinateHighAddressEnd': u'0220899',\n",
       "  u'yCoordinateLowAddressEnd': u'0220458',\n",
       "  u'yCoordinateOfCenterofCurvature': u'0000000',\n",
       "  u'zipCode': u'10023',\n",
       "  u'zipCodeIn': u'10023'}}"
      ]
     },
     "execution_count": 30,
     "metadata": {},
     "output_type": "execute_result"
    }
   ],
   "source": [
    "r.json()"
   ]
  },
  {
   "cell_type": "code",
   "execution_count": 31,
   "metadata": {
    "collapsed": false
   },
   "outputs": [
    {
     "data": {
      "text/plain": [
       "{u'assemblyDistrict': u'75',\n",
       " u'bbl': u'1011180005',\n",
       " u'bblBoroughCode': u'1',\n",
       " u'bblTaxBlock': u'01118',\n",
       " u'bblTaxLot': u'0005',\n",
       " u'boardOfElectionsPreferredLgc': u'1',\n",
       " u'boePreferredStreetName': u'WEST   65 STREET',\n",
       " u'boePreferredstreetCode': u'13507001',\n",
       " u'buildingIdentificationNumber': u'1028160',\n",
       " u'businessImprovementDistrict': u'113175',\n",
       " u'censusBlock2000': u'1000',\n",
       " u'censusBlock2010': u'2000',\n",
       " u'censusTract1990': u' 149  ',\n",
       " u'censusTract2000': u' 149  ',\n",
       " u'censusTract2010': u' 149  ',\n",
       " u'cityCouncilDistrict': u'06',\n",
       " u'civilCourtDistrict': u'05',\n",
       " u'coincidentSegmentCount': u'1',\n",
       " u'communityDistrict': u'107',\n",
       " u'communityDistrictBoroughCode': u'1',\n",
       " u'communityDistrictNumber': u'07',\n",
       " u'communitySchoolDistrict': u'03',\n",
       " u'condominiumBillingBbl': u'0000000000',\n",
       " u'congressionalDistrict': u'10',\n",
       " u'cooperativeIdNumber': u'0000',\n",
       " u'crossStreetNamesFlagIn': u'E',\n",
       " u'dcpCommercialStudyArea': u'11026',\n",
       " u'dcpPreferredLgc': u'01',\n",
       " u'dotStreetLightContractorArea': u'1',\n",
       " u'dynamicBlock': u'101',\n",
       " u'electionDistrict': u'097',\n",
       " u'fireBattalion': u'09',\n",
       " u'fireCompanyNumber': u'035',\n",
       " u'fireCompanyType': u'L',\n",
       " u'fireDivision': u'03',\n",
       " u'firstBoroughName': u'MANHATTAN',\n",
       " u'firstStreetCode': u'13507001010',\n",
       " u'firstStreetNameNormalized': u'WEST   65 STREET',\n",
       " u'fromLionNodeId': u'0023254',\n",
       " u'fromPreferredLgcsFirstSetOf5': u'0101',\n",
       " u'genericId': u'0003610',\n",
       " u'geosupportFunctionCode': u'1B',\n",
       " u'geosupportReturnCode': u'00',\n",
       " u'geosupportReturnCode2': u'00',\n",
       " u'gi5DigitStreetCode1': u'35070',\n",
       " u'giBoroughCode1': u'1',\n",
       " u'giBuildingIdentificationNumber1': u'1028160',\n",
       " u'giDcpPreferredLgc1': u'01',\n",
       " u'giHighHouseNumber1': u'43',\n",
       " u'giLowHouseNumber1': u'37',\n",
       " u'giSideOfStreetIndicator1': u'R',\n",
       " u'giStreetCode1': u'13507001',\n",
       " u'giStreetName1': u'WEST   65 STREET',\n",
       " u'healthArea': u'4000',\n",
       " u'healthCenterDistrict': u'15',\n",
       " u'highBblOfThisBuildingsCondominiumUnits': u'1011180005',\n",
       " u'highCrossStreetB5SC1': u'115710',\n",
       " u'highCrossStreetCode1': u'11571001',\n",
       " u'highCrossStreetName1': u'COLUMBUS AVENUE',\n",
       " u'highHouseNumberOfBlockfaceSortFormat': u'000099000AA',\n",
       " u'houseNumber': u'37',\n",
       " u'houseNumberIn': u'37',\n",
       " u'houseNumberSortFormat': u'000037000AA',\n",
       " u'hurricaneEvacuationZone': u'X',\n",
       " u'instructionalRegion': u'MN',\n",
       " u'interimAssistanceEligibilityIndicator': u'I',\n",
       " u'internalLabelXCoordinate': u'0989440',\n",
       " u'internalLabelYCoordinate': u'0220863',\n",
       " u'latitude': 40.77228046241657,\n",
       " u'latitudeInternalLabel': 40.77289268880437,\n",
       " u'legacySegmentId': u'0037063',\n",
       " u'lionBoroughCode': u'1',\n",
       " u'lionBoroughCodeForVanityAddress': u'1',\n",
       " u'lionFaceCode': u'5110',\n",
       " u'lionFaceCodeForVanityAddress': u'5110',\n",
       " u'lionKey': u'1511000010',\n",
       " u'lionKeyForVanityAddress': u'1511000010',\n",
       " u'lionSequenceNumber': u'00010',\n",
       " u'lionSequenceNumberForVanityAddress': u'00010',\n",
       " u'listOf4Lgcs': u'01',\n",
       " u'longitude': -73.98036321722904,\n",
       " u'longitudeInternalLabel': -73.98126202620905,\n",
       " u'lowBblOfThisBuildingsCondominiumUnits': u'1011180005',\n",
       " u'lowCrossStreetB5SC1': u'114510',\n",
       " u'lowCrossStreetB5SC2': u'197540',\n",
       " u'lowCrossStreetCode1': u'11451001',\n",
       " u'lowCrossStreetCode2': u'19754001',\n",
       " u'lowCrossStreetName1': u'CENTRAL PARK WEST',\n",
       " u'lowCrossStreetName2': u'65 ST TRANSVERSE',\n",
       " u'lowHouseNumberOfBlockfaceSortFormat': u'000001000AA',\n",
       " u'lowHouseNumberOfDefiningAddressRange': u'000037000AA',\n",
       " u'nta': u'MN14',\n",
       " u'ntaName': u'Lincoln Square',\n",
       " u'numberOfCrossStreetB5SCsHighAddressEnd': u'1',\n",
       " u'numberOfCrossStreetB5SCsLowAddressEnd': u'2',\n",
       " u'numberOfCrossStreetsHighAddressEnd': u'1',\n",
       " u'numberOfCrossStreetsLowAddressEnd': u'2',\n",
       " u'numberOfEntriesInListOfGeographicIdentifiers': u'0001',\n",
       " u'numberOfExistingStructuresOnLot': u'0001',\n",
       " u'numberOfStreetFrontagesOfLot': u'01',\n",
       " u'physicalId': u'0004270',\n",
       " u'policePatrolBoroughCommand': u'2',\n",
       " u'policePrecinct': u'020',\n",
       " u'returnCode1a': u'00',\n",
       " u'returnCode1e': u'00',\n",
       " u'roadwayType': u'1',\n",
       " u'rpadBuildingClassificationCode': u'O9',\n",
       " u'rpadSelfCheckCodeForBbl': u'8',\n",
       " u'sanbornBoroughCode': u'1',\n",
       " u'sanbornPageNumber': u'025',\n",
       " u'sanbornVolumeNumber': u'06',\n",
       " u'sanbornVolumeNumberSuffix': u'W',\n",
       " u'sanitationCollectionSchedulingSectionAndSubsection': u'1A',\n",
       " u'sanitationDistrict': u'107',\n",
       " u'sanitationRecyclingCollectionSchedule': u'EF',\n",
       " u'sanitationRegularCollectionSchedule': u'MWF',\n",
       " u'sanitationSnowPriorityCode': u'P',\n",
       " u'segmentAzimuth': u'151',\n",
       " u'segmentIdentifier': u'0037063',\n",
       " u'segmentLengthInFeet': u'00913',\n",
       " u'segmentOrientation': u'W',\n",
       " u'segmentTypeCode': u'U',\n",
       " u'sideOfStreetIndicator': u'R',\n",
       " u'sideOfStreetOfVanityAddress': u'R',\n",
       " u'splitLowHouseNumber': u'000001000AA',\n",
       " u'stateSenatorialDistrict': u'27',\n",
       " u'streetName1In': u'WEST 65TH STREET',\n",
       " u'streetStatus': u'2',\n",
       " u'taxMapNumberSectionAndVolume': u'10406',\n",
       " u'toLionNodeId': u'0021711',\n",
       " u'toPreferredLgcsFirstSetOf5': u'01',\n",
       " u'trafficDirection': u'A',\n",
       " u'underlyingStreetCode': u'13507001',\n",
       " u'uspsPreferredCityName': u'NEW YORK',\n",
       " u'workAreaFormatIndicatorIn': u'C',\n",
       " u'xCoordinate': u'0989689',\n",
       " u'xCoordinateHighAddressEnd': u'0989214',\n",
       " u'xCoordinateLowAddressEnd': u'0990013',\n",
       " u'xCoordinateOfCenterofCurvature': u'0000000',\n",
       " u'yCoordinate': u'0220640',\n",
       " u'yCoordinateHighAddressEnd': u'0220899',\n",
       " u'yCoordinateLowAddressEnd': u'0220458',\n",
       " u'yCoordinateOfCenterofCurvature': u'0000000',\n",
       " u'zipCode': u'10023',\n",
       " u'zipCodeIn': u'10023'}"
      ]
     },
     "execution_count": 31,
     "metadata": {},
     "output_type": "execute_result"
    }
   ],
   "source": [
    "r.json()['address']"
   ]
  },
  {
   "cell_type": "code",
   "execution_count": 32,
   "metadata": {
    "collapsed": false
   },
   "outputs": [
    {
     "data": {
      "text/plain": [
       "(40.77228046241657, -73.98036321722904)"
      ]
     },
     "execution_count": 32,
     "metadata": {},
     "output_type": "execute_result"
    }
   ],
   "source": [
    "r.json()['address']['latitude'], r.json()['address']['longitude']"
   ]
  },
  {
   "cell_type": "code",
   "execution_count": 33,
   "metadata": {
    "collapsed": false
   },
   "outputs": [],
   "source": [
    "#because we've already iterated through and closed the file, we have to re-open the file\n",
    "inputFile = open('Lincoln_Square_BID_Business_List.csv','rU') \n",
    "header = next(inputFile) #take the next line and assign it to a variable\n",
    "inputReader = csv.reader(inputFile) "
   ]
  },
  {
   "cell_type": "code",
   "execution_count": 34,
   "metadata": {
    "collapsed": false
   },
   "outputs": [],
   "source": [
    "#This time, I want to process the response I get. I'm going to get the response and write the output to a file\n",
    "#Here I'm opening the file I'm going to write to. If the file already exists, it overwrite the file.\n",
    "outputFile = open('Lincoln_Square_BID_Business_List_geocoded.csv','w') #opens the file\n",
    "outputFile.write(header.rstrip() + ',longitude,latitude\\n') #writes the first line of my CSV file. NOTE: '\\n' writes a new line"
   ]
  },
  {
   "cell_type": "markdown",
   "metadata": {},
   "source": [
    "###This time through we put the pieces together.  I'm executing the web request, I'm getting the reponse, and then writing it to the output"
   ]
  },
  {
   "cell_type": "code",
   "execution_count": 35,
   "metadata": {
    "collapsed": false
   },
   "outputs": [],
   "source": [
    "for line in inputReader:\n",
    "    houseNumber = line[1].split(\" \")[0] #take the first segment of the address\n",
    "    street = ' '.join(line[1].split(\" \")[1:]) #take the rest of the address as the street\n",
    "    zipcode = line[4][:5]\n",
    "    #the web request, using the get() function from the package requests and assigning it to the variable r\n",
    "    r = requests.get('https://api.cityofnewyork.us/geoclient/v1/address.json?houseNumber=' + houseNumber + '&street=' + street + '&zip=' + zipcode + '&app_id=' + APP_ID + '&app_key=' + APP_KEY)\n",
    "    \n",
    "    \n",
    "    #My default value is 'Null' for longitude. 0 is a legitimate value and when I map these, I don't want anything to plot to 0,0\n",
    "    longitude = 'Null' \n",
    "    latitude = 'Null'\n",
    "\n",
    "    \n",
    "    #longitude\n",
    "    if 'longitude' in r.json()['address'].keys(): #I first check that there is a longitude present\n",
    "        #if it's present, I assign the value to the variable \"longitude\". Otherwise, the variable longitude has the value 'Null'\n",
    "        longitude = r.json()['address']['longitude'] \n",
    "    #latitude\n",
    "    if 'latitude' in r.json()['address'].keys(): #I then check that there is a latitude present\n",
    "        #if it's present, I assign the value to the variable \"latitude\". Otherwise, the variable latitude has the value 'Null'\n",
    "        latitude = r.json()['address']['latitude']\n",
    "    #I then write the result to the output file, stringing together the variables\n",
    "    #because the latitude and longitude are decimal numbers, I have to convert them to strings using the str() function\n",
    "    #in order to combine them together with the rest of the variables. \n",
    "    #Note the commas in the string and the '\\n' new line character at the end of the string\n",
    "    outputFile.write(','.join(line) + ',' + str(longitude) + ',' + str(latitude) + '\\n')\n",
    "\n",
    "inputFile.close() #close the input file\n",
    "outputFile.close() #close the open output file. \n",
    "#This is important because if you don't close it, it's possible the last bit of data won't get written to the file before the \n",
    "#program closes."
   ]
  },
  {
   "cell_type": "markdown",
   "metadata": {
    "collapsed": false
   },
   "source": [
    "##And we're done..."
   ]
  },
  {
   "cell_type": "markdown",
   "metadata": {},
   "source": [
    "<img src=\"http://www.quickmeme.com/img/a5/a5e4a5a47029bf5fb99de6baa5ac7c9a664c3cd0b9c40d67d49c4c591dde0282.jpg\">"
   ]
  },
  {
   "cell_type": "code",
   "execution_count": null,
   "metadata": {
    "collapsed": true
   },
   "outputs": [],
   "source": []
  }
 ],
 "metadata": {
  "kernelspec": {
   "display_name": "Python 2",
   "language": "python",
   "name": "python2"
  },
  "language_info": {
   "codemirror_mode": {
    "name": "ipython",
    "version": 2
   },
   "file_extension": ".py",
   "mimetype": "text/x-python",
   "name": "python",
   "nbconvert_exporter": "python",
   "pygments_lexer": "ipython2",
   "version": "2.7.10"
  }
 },
 "nbformat": 4,
 "nbformat_minor": 0
}
