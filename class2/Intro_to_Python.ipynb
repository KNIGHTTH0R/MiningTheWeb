{
 "cells": [
  {
   "cell_type": "markdown",
   "metadata": {},
   "source": [
    "### This notebook walks you through some basic operations in Python to get you familiar with syntax and operation"
   ]
  },
  {
   "cell_type": "code",
   "execution_count": null,
   "metadata": {
    "collapsed": false
   },
   "outputs": [],
   "source": [
    "a = 5 #this is a basic variable assignment"
   ]
  },
  {
   "cell_type": "code",
   "execution_count": null,
   "metadata": {
    "collapsed": false
   },
   "outputs": [],
   "source": [
    "a #this tests the assignment"
   ]
  },
  {
   "cell_type": "code",
   "execution_count": null,
   "metadata": {
    "collapsed": false
   },
   "outputs": [],
   "source": [
    "b = 7 #this is another basic variable assignment"
   ]
  },
  {
   "cell_type": "code",
   "execution_count": null,
   "metadata": {
    "collapsed": false
   },
   "outputs": [],
   "source": [
    "b"
   ]
  },
  {
   "cell_type": "code",
   "execution_count": null,
   "metadata": {
    "collapsed": false
   },
   "outputs": [],
   "source": [
    "c = a + b #this is a variable assignment as a result of some operation on other variables"
   ]
  },
  {
   "cell_type": "code",
   "execution_count": null,
   "metadata": {
    "collapsed": false
   },
   "outputs": [],
   "source": [
    "c"
   ]
  },
  {
   "cell_type": "code",
   "execution_count": null,
   "metadata": {
    "collapsed": false
   },
   "outputs": [],
   "source": [
    "my_list = [a,b,c] #this is a data structure known as a list. It is a list (or array) of variables"
   ]
  },
  {
   "cell_type": "code",
   "execution_count": null,
   "metadata": {
    "collapsed": false
   },
   "outputs": [],
   "source": [
    "my_list #instead of a,b,c, we get the values of those variables in the list"
   ]
  },
  {
   "cell_type": "code",
   "execution_count": null,
   "metadata": {
    "collapsed": false
   },
   "outputs": [],
   "source": [
    "my_list[0] #I access elements in the list by their index, starting at 0 for the first element"
   ]
  },
  {
   "cell_type": "code",
   "execution_count": null,
   "metadata": {
    "collapsed": false
   },
   "outputs": [],
   "source": [
    "my_list[0:3]"
   ]
  },
  {
   "cell_type": "code",
   "execution_count": null,
   "metadata": {
    "collapsed": false
   },
   "outputs": [],
   "source": [
    "len(my_list)"
   ]
  },
  {
   "cell_type": "code",
   "execution_count": null,
   "metadata": {
    "collapsed": false
   },
   "outputs": [],
   "source": [
    "#the last element referenced doesn't get printed. \n",
    "#There is actually a good reason for this behavior, but at this point, just know that's the case\n",
    "for i in range(10):\n",
    "    print i"
   ]
  },
  {
   "cell_type": "code",
   "execution_count": null,
   "metadata": {
    "collapsed": false
   },
   "outputs": [],
   "source": [
    "#a simple for loop going through each item in the list and assigning it to the variable i. \n",
    "#I then test the value of i with my if statement. If the condition is true, the code below is executed\n",
    "for i in my_list:\n",
    "    if i >= 7: #logical test of value assigned to i\n",
    "        print i\n",
    "       "
   ]
  },
  {
   "cell_type": "code",
   "execution_count": null,
   "metadata": {
    "collapsed": false
   },
   "outputs": [],
   "source": [
    "#this is an example of another data structure known as a dictionary. There are keys (1,2,3) and respective values for each key,\n",
    "#\"Amanda\", \"Steven\", \"Max\". \n",
    "my_dictionary = {\"Chris\":\"Addie\", \"Patrick\":\"Monica\", \"Lindsay\":\"Matt\"}"
   ]
  },
  {
   "cell_type": "code",
   "execution_count": null,
   "metadata": {
    "collapsed": false
   },
   "outputs": [],
   "source": [
    "my_dictionary[\"Chris\"] #I \"look-up\" the value by giving the dictionary name followed by the key value in square brackets ([])"
   ]
  },
  {
   "cell_type": "code",
   "execution_count": null,
   "metadata": {
    "collapsed": false
   },
   "outputs": [],
   "source": [
    "#defaultdict is a more advanced dictionary that we import from an available package\n",
    "from collections import defaultdict"
   ]
  },
  {
   "cell_type": "code",
   "execution_count": null,
   "metadata": {
    "collapsed": false
   },
   "outputs": [],
   "source": [
    "#here I'm creating the defaultdict with the data type list for the values. My keys can be any data type\n",
    "my_defaultdictionary = defaultdict(list)"
   ]
  },
  {
   "cell_type": "code",
   "execution_count": null,
   "metadata": {
    "collapsed": false
   },
   "outputs": [],
   "source": [
    "#this is how I add data to a dictionary. 'Game of Thrones' is the key. ''Tyrion','Arya', 'Jon' are the values, in a list\n",
    "my_defaultdictionary['Game of Thrones'] = ['Tyrion','Arya', 'Jon']"
   ]
  },
  {
   "cell_type": "code",
   "execution_count": null,
   "metadata": {
    "collapsed": false
   },
   "outputs": [],
   "source": [
    "my_defaultdictionary['Game of Thrones'][0]"
   ]
  },
  {
   "cell_type": "code",
   "execution_count": null,
   "metadata": {
    "collapsed": false
   },
   "outputs": [],
   "source": [
    "#adding values for a much better show to the dictionary\n",
    "my_defaultdictionary['Mad Men'] = ['Don','Peggy','Joan','Sterling','Cooper']"
   ]
  },
  {
   "cell_type": "code",
   "execution_count": null,
   "metadata": {
    "collapsed": false
   },
   "outputs": [],
   "source": [
    "my_defaultdictionary #output the values in the dictionary"
   ]
  },
  {
   "cell_type": "code",
   "execution_count": null,
   "metadata": {
    "collapsed": false
   },
   "outputs": [],
   "source": [
    "#I can reference particular items in list by using the dictionary name, the key value, and the index of the result\n",
    "my_defaultdictionary['Mad Men'][0]"
   ]
  },
  {
   "cell_type": "code",
   "execution_count": null,
   "metadata": {
    "collapsed": false
   },
   "outputs": [],
   "source": [
    "#In this case, I'm iterating through the items of the dictionary. The function iteritems() returns the key and value for each \n",
    "#item, which I'm assigning to the variables key and value. I then test the key in an if statement and if it matches\n",
    "#I print the result\n",
    "for key,value in my_defaultdictionary.iteritems():\n",
    "    if key == 'Mad Men':\n",
    "        print( \"In the show \" + key + \" there are the characters \" + \", \".join(value))"
   ]
  },
  {
   "cell_type": "code",
   "execution_count": null,
   "metadata": {
    "collapsed": false
   },
   "outputs": [],
   "source": [
    "#Now I'm going to do write output to a file\n",
    "#I first open the file for writing. If the file doesn't exist, the file is created.\n",
    "#NOTE: If it already exists, Python will overwrite the files contents\n",
    "outputFile = open('character_output','w') #I pass the 'w' argument for writing\n",
    "\n",
    "#I'm going to loop through the dictionary and write the result in the same way I did with printing\n",
    "for key,value in my_defaultdictionary.iteritems(): #iterate through the items in the dictionary\n",
    "    #we add the '\\n' for a new line at the end of the sentence so they don't run together\n",
    "    outputFile.write(\"In the show \" + key + \" there are the characters \" + \", \".join(value) + '\\n') \n",
    "\n",
    "#Closing the file is important so data doesn't get lost in the character buffer \n",
    "#(don't worry what that is, just know that data can get \"stuck\" there if you don't close the file properly)\n",
    "outputFile.close()"
   ]
  },
  {
   "cell_type": "code",
   "execution_count": null,
   "metadata": {
    "collapsed": false
   },
   "outputs": [],
   "source": []
  },
  {
   "cell_type": "code",
   "execution_count": null,
   "metadata": {
    "collapsed": false
   },
   "outputs": [],
   "source": []
  }
 ],
 "metadata": {
  "kernelspec": {
   "display_name": "Python 2",
   "language": "python",
   "name": "python2"
  },
  "language_info": {
   "codemirror_mode": {
    "name": "ipython",
    "version": 2
   },
   "file_extension": ".py",
   "mimetype": "text/x-python",
   "name": "python",
   "nbconvert_exporter": "python",
   "pygments_lexer": "ipython2",
   "version": "2.7.10"
  }
 },
 "nbformat": 4,
 "nbformat_minor": 0
}
