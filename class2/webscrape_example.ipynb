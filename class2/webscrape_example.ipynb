{
 "metadata": {
  "name": "",
  "signature": "sha256:30951ca98160878e723b9b3298fc08b39bf0c13ce807c1c4112f4c4499e694b2"
 },
 "nbformat": 3,
 "nbformat_minor": 0,
 "worksheets": [
  {
   "cells": [
    {
     "cell_type": "code",
     "collapsed": false,
     "input": [
      "import urllib2\n",
      "from bs4 import BeautifulSoup #probably have to install"
     ],
     "language": "python",
     "metadata": {},
     "outputs": [],
     "prompt_number": 1
    },
    {
     "cell_type": "code",
     "collapsed": false,
     "input": [
      "url = \"http://hraun.vedur.is/ja/skjalftar/skjlisti.html\""
     ],
     "language": "python",
     "metadata": {},
     "outputs": [],
     "prompt_number": 2
    },
    {
     "cell_type": "code",
     "collapsed": false,
     "input": [
      "page = urllib2.urlopen(url)"
     ],
     "language": "python",
     "metadata": {},
     "outputs": [],
     "prompt_number": 3
    },
    {
     "cell_type": "code",
     "collapsed": false,
     "input": [
      "soup = BeautifulSoup(page.read())"
     ],
     "language": "python",
     "metadata": {},
     "outputs": [],
     "prompt_number": 4
    },
    {
     "cell_type": "code",
     "collapsed": false,
     "input": [
      "outfilename = \"iceland_quake.csv\"\n",
      "outputFile = open(outfilename,'w')\n",
      "outputFile.write(\"date, time, lat, lon, depth, size, quality\\n\")"
     ],
     "language": "python",
     "metadata": {},
     "outputs": [],
     "prompt_number": 5
    },
    {
     "cell_type": "code",
     "collapsed": false,
     "input": [
      "for row in soup('table')[2].findAll('tr')[1:]:\n",
      "    line = row.get_text()\n",
      "    line = line.replace(\",\", \".\")\n",
      "    date = line[0:10]\n",
      "    time = line[10:20]\n",
      "    lat = line[20:26]\n",
      "    lon = line[26:33]\n",
      "    slim_line = line[33:]\n",
      "    \n",
      "    #print slim_line.split(\" \")[0]\n",
      "    slim_line = slim_line.split(\" \")[0]\n",
      "    quality = slim_line[-5:]\n",
      "    slim_line = slim_line[:-5]\n",
      "    if slim_line[-4] == '-':\n",
      "        size = slim_line[-4:]\n",
      "        depth = slim_line[:-4]\n",
      "    else:\n",
      "        size = slim_line[-3:]\n",
      "        depth = slim_line[:-3]\n",
      "    #print line\n",
      "    #print quality\n",
      "    if float(quality) >= 50:\n",
      "        outputFile.write(date + \",\" + time + \",\" + lat + \",\" + lon + \",\" + depth + \",\" + size + \",\" + quality + \"\\n\")\n",
      "outputFile.close()"
     ],
     "language": "python",
     "metadata": {},
     "outputs": [],
     "prompt_number": 6
    },
    {
     "cell_type": "code",
     "collapsed": false,
     "input": [],
     "language": "python",
     "metadata": {},
     "outputs": []
    }
   ],
   "metadata": {}
  }
 ]
}